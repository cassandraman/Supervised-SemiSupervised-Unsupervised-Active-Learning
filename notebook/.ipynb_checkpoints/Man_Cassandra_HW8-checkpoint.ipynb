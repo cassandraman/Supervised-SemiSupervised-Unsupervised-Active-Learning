{
 "cells": [
  {
   "cell_type": "markdown",
   "metadata": {},
   "source": [
    "## DSCI-552 Homework 08"
   ]
  },
  {
   "cell_type": "markdown",
   "metadata": {},
   "source": [
    "### Cassandra Man, USC ID #4731096972"
   ]
  },
  {
   "cell_type": "code",
   "execution_count": 1,
   "metadata": {},
   "outputs": [],
   "source": [
    "# Import python libraries\n",
    "import pandas as pd\n",
    "import numpy as np\n",
    "import seaborn as sn\n",
    "from pandas import DataFrame\n",
    "from sklearn.linear_model import LogisticRegression\n",
    "import statsmodels.api as sm\n",
    "from sklearn import metrics\n",
    "from sklearn.metrics import mean_squared_error\n",
    "from sklearn import linear_model, datasets\n",
    "from sklearn.model_selection import GridSearchCV\n",
    "from sklearn.model_selection import train_test_split\n",
    "from sklearn import datasets\n",
    "from sklearn.linear_model import LinearRegression\n",
    "from sklearn.preprocessing import StandardScaler\n",
    "from sklearn.model_selection import cross_val_score\n",
    "import statistics\n",
    "from statistics import mean\n",
    "import warnings\n",
    "import xgboost as xg\n",
    "from imblearn.pipeline import make_pipeline, Pipeline\n",
    "from imblearn.over_sampling import SMOTE\n",
    "from sklearn.model_selection import StratifiedKFold\n",
    "from sklearn.metrics import hamming_loss\n",
    "from sklearn.svm import SVC\n",
    "from sklearn.metrics import make_scorer\n",
    "from sklearn.preprocessing import StandardScaler\n",
    "from sklearn.svm import LinearSVC\n",
    "from sklearn.cluster import KMeans\n",
    "from sklearn.metrics import silhouette_score\n",
    "from sklearn import preprocessing\n",
    "from scipy.spatial.distance import hamming\n",
    "from sklearn.metrics import hamming_loss\n",
    "from sklearn.metrics import confusion_matrix\n",
    "from sklearn.metrics import accuracy_score\n",
    "from sklearn.metrics import precision_score\n",
    "from sklearn.metrics import recall_score\n",
    "from sklearn.metrics import f1_score\n",
    "from sklearn.metrics import confusion_matrix, roc_auc_score, roc_curve\n",
    "import matplotlib.pyplot as plt\n",
    "from sklearn.metrics import pairwise_distances\n",
    "from collections import Counter\n",
    "from scipy.special import softmax\n",
    "from sklearn.cluster import SpectralClustering"
   ]
  },
  {
   "cell_type": "markdown",
   "metadata": {},
   "source": [
    "## 1. Supervised, Semi-Supervised, and Unsupervised Learning"
   ]
  },
  {
   "cell_type": "markdown",
   "metadata": {},
   "source": [
    "### A. Download the Breast Cancer Wisconsin (Diagnostic) Data Set"
   ]
  },
  {
   "cell_type": "code",
   "execution_count": 2,
   "metadata": {},
   "outputs": [],
   "source": [
    "# Load .data files\n",
    "df = pd.read_csv(\"../data/wdbc.data\", header = None)\n",
    "col_names = [\"ID\", \"Diagnosis\", \"Radius_1\", \"Texture_1\", \"Perimeter_1\", \"Area_1\", \"Smoothness_1\", \"Compactness_1\", \"Concavity_1\", \"Concave_Pts_1\", \"Symmetry_1\", \"Fractal_Dim_1\", \"Radius_2\", \"Texture_2\", \"Perimeter_2\", \"Area_2\", \"Smoothness_2\", \"Compactness_2\", \"Concavity_2\", \"Concave_Pts_2\", \"Symmetryv\", \"Fractal_Dim_2\", \"Radius_3\", \"Texture_3\", \"Perimeter_3\", \"Area_3\", \"Smoothness_3\", \"Compactness_3\", \"Concavity_3\", \"Concave_Pts_3\", \"Symmetry_3\", \"Fractal_Dim_3\"]\n",
    "df.columns = col_names"
   ]
  },
  {
   "cell_type": "code",
   "execution_count": 3,
   "metadata": {},
   "outputs": [
    {
     "data": {
      "text/html": [
       "<div>\n",
       "<style scoped>\n",
       "    .dataframe tbody tr th:only-of-type {\n",
       "        vertical-align: middle;\n",
       "    }\n",
       "\n",
       "    .dataframe tbody tr th {\n",
       "        vertical-align: top;\n",
       "    }\n",
       "\n",
       "    .dataframe thead th {\n",
       "        text-align: right;\n",
       "    }\n",
       "</style>\n",
       "<table border=\"1\" class=\"dataframe\">\n",
       "  <thead>\n",
       "    <tr style=\"text-align: right;\">\n",
       "      <th></th>\n",
       "      <th>ID</th>\n",
       "      <th>Diagnosis</th>\n",
       "      <th>Radius_1</th>\n",
       "      <th>Texture_1</th>\n",
       "      <th>Perimeter_1</th>\n",
       "      <th>Area_1</th>\n",
       "      <th>Smoothness_1</th>\n",
       "      <th>Compactness_1</th>\n",
       "      <th>Concavity_1</th>\n",
       "      <th>Concave_Pts_1</th>\n",
       "      <th>...</th>\n",
       "      <th>Radius_3</th>\n",
       "      <th>Texture_3</th>\n",
       "      <th>Perimeter_3</th>\n",
       "      <th>Area_3</th>\n",
       "      <th>Smoothness_3</th>\n",
       "      <th>Compactness_3</th>\n",
       "      <th>Concavity_3</th>\n",
       "      <th>Concave_Pts_3</th>\n",
       "      <th>Symmetry_3</th>\n",
       "      <th>Fractal_Dim_3</th>\n",
       "    </tr>\n",
       "  </thead>\n",
       "  <tbody>\n",
       "    <tr>\n",
       "      <td>0</td>\n",
       "      <td>842302</td>\n",
       "      <td>M</td>\n",
       "      <td>17.99</td>\n",
       "      <td>10.38</td>\n",
       "      <td>122.80</td>\n",
       "      <td>1001.0</td>\n",
       "      <td>0.11840</td>\n",
       "      <td>0.27760</td>\n",
       "      <td>0.30010</td>\n",
       "      <td>0.14710</td>\n",
       "      <td>...</td>\n",
       "      <td>25.380</td>\n",
       "      <td>17.33</td>\n",
       "      <td>184.60</td>\n",
       "      <td>2019.0</td>\n",
       "      <td>0.16220</td>\n",
       "      <td>0.66560</td>\n",
       "      <td>0.7119</td>\n",
       "      <td>0.2654</td>\n",
       "      <td>0.4601</td>\n",
       "      <td>0.11890</td>\n",
       "    </tr>\n",
       "    <tr>\n",
       "      <td>1</td>\n",
       "      <td>842517</td>\n",
       "      <td>M</td>\n",
       "      <td>20.57</td>\n",
       "      <td>17.77</td>\n",
       "      <td>132.90</td>\n",
       "      <td>1326.0</td>\n",
       "      <td>0.08474</td>\n",
       "      <td>0.07864</td>\n",
       "      <td>0.08690</td>\n",
       "      <td>0.07017</td>\n",
       "      <td>...</td>\n",
       "      <td>24.990</td>\n",
       "      <td>23.41</td>\n",
       "      <td>158.80</td>\n",
       "      <td>1956.0</td>\n",
       "      <td>0.12380</td>\n",
       "      <td>0.18660</td>\n",
       "      <td>0.2416</td>\n",
       "      <td>0.1860</td>\n",
       "      <td>0.2750</td>\n",
       "      <td>0.08902</td>\n",
       "    </tr>\n",
       "    <tr>\n",
       "      <td>2</td>\n",
       "      <td>84300903</td>\n",
       "      <td>M</td>\n",
       "      <td>19.69</td>\n",
       "      <td>21.25</td>\n",
       "      <td>130.00</td>\n",
       "      <td>1203.0</td>\n",
       "      <td>0.10960</td>\n",
       "      <td>0.15990</td>\n",
       "      <td>0.19740</td>\n",
       "      <td>0.12790</td>\n",
       "      <td>...</td>\n",
       "      <td>23.570</td>\n",
       "      <td>25.53</td>\n",
       "      <td>152.50</td>\n",
       "      <td>1709.0</td>\n",
       "      <td>0.14440</td>\n",
       "      <td>0.42450</td>\n",
       "      <td>0.4504</td>\n",
       "      <td>0.2430</td>\n",
       "      <td>0.3613</td>\n",
       "      <td>0.08758</td>\n",
       "    </tr>\n",
       "    <tr>\n",
       "      <td>3</td>\n",
       "      <td>84348301</td>\n",
       "      <td>M</td>\n",
       "      <td>11.42</td>\n",
       "      <td>20.38</td>\n",
       "      <td>77.58</td>\n",
       "      <td>386.1</td>\n",
       "      <td>0.14250</td>\n",
       "      <td>0.28390</td>\n",
       "      <td>0.24140</td>\n",
       "      <td>0.10520</td>\n",
       "      <td>...</td>\n",
       "      <td>14.910</td>\n",
       "      <td>26.50</td>\n",
       "      <td>98.87</td>\n",
       "      <td>567.7</td>\n",
       "      <td>0.20980</td>\n",
       "      <td>0.86630</td>\n",
       "      <td>0.6869</td>\n",
       "      <td>0.2575</td>\n",
       "      <td>0.6638</td>\n",
       "      <td>0.17300</td>\n",
       "    </tr>\n",
       "    <tr>\n",
       "      <td>4</td>\n",
       "      <td>84358402</td>\n",
       "      <td>M</td>\n",
       "      <td>20.29</td>\n",
       "      <td>14.34</td>\n",
       "      <td>135.10</td>\n",
       "      <td>1297.0</td>\n",
       "      <td>0.10030</td>\n",
       "      <td>0.13280</td>\n",
       "      <td>0.19800</td>\n",
       "      <td>0.10430</td>\n",
       "      <td>...</td>\n",
       "      <td>22.540</td>\n",
       "      <td>16.67</td>\n",
       "      <td>152.20</td>\n",
       "      <td>1575.0</td>\n",
       "      <td>0.13740</td>\n",
       "      <td>0.20500</td>\n",
       "      <td>0.4000</td>\n",
       "      <td>0.1625</td>\n",
       "      <td>0.2364</td>\n",
       "      <td>0.07678</td>\n",
       "    </tr>\n",
       "    <tr>\n",
       "      <td>...</td>\n",
       "      <td>...</td>\n",
       "      <td>...</td>\n",
       "      <td>...</td>\n",
       "      <td>...</td>\n",
       "      <td>...</td>\n",
       "      <td>...</td>\n",
       "      <td>...</td>\n",
       "      <td>...</td>\n",
       "      <td>...</td>\n",
       "      <td>...</td>\n",
       "      <td>...</td>\n",
       "      <td>...</td>\n",
       "      <td>...</td>\n",
       "      <td>...</td>\n",
       "      <td>...</td>\n",
       "      <td>...</td>\n",
       "      <td>...</td>\n",
       "      <td>...</td>\n",
       "      <td>...</td>\n",
       "      <td>...</td>\n",
       "      <td>...</td>\n",
       "    </tr>\n",
       "    <tr>\n",
       "      <td>564</td>\n",
       "      <td>926424</td>\n",
       "      <td>M</td>\n",
       "      <td>21.56</td>\n",
       "      <td>22.39</td>\n",
       "      <td>142.00</td>\n",
       "      <td>1479.0</td>\n",
       "      <td>0.11100</td>\n",
       "      <td>0.11590</td>\n",
       "      <td>0.24390</td>\n",
       "      <td>0.13890</td>\n",
       "      <td>...</td>\n",
       "      <td>25.450</td>\n",
       "      <td>26.40</td>\n",
       "      <td>166.10</td>\n",
       "      <td>2027.0</td>\n",
       "      <td>0.14100</td>\n",
       "      <td>0.21130</td>\n",
       "      <td>0.4107</td>\n",
       "      <td>0.2216</td>\n",
       "      <td>0.2060</td>\n",
       "      <td>0.07115</td>\n",
       "    </tr>\n",
       "    <tr>\n",
       "      <td>565</td>\n",
       "      <td>926682</td>\n",
       "      <td>M</td>\n",
       "      <td>20.13</td>\n",
       "      <td>28.25</td>\n",
       "      <td>131.20</td>\n",
       "      <td>1261.0</td>\n",
       "      <td>0.09780</td>\n",
       "      <td>0.10340</td>\n",
       "      <td>0.14400</td>\n",
       "      <td>0.09791</td>\n",
       "      <td>...</td>\n",
       "      <td>23.690</td>\n",
       "      <td>38.25</td>\n",
       "      <td>155.00</td>\n",
       "      <td>1731.0</td>\n",
       "      <td>0.11660</td>\n",
       "      <td>0.19220</td>\n",
       "      <td>0.3215</td>\n",
       "      <td>0.1628</td>\n",
       "      <td>0.2572</td>\n",
       "      <td>0.06637</td>\n",
       "    </tr>\n",
       "    <tr>\n",
       "      <td>566</td>\n",
       "      <td>926954</td>\n",
       "      <td>M</td>\n",
       "      <td>16.60</td>\n",
       "      <td>28.08</td>\n",
       "      <td>108.30</td>\n",
       "      <td>858.1</td>\n",
       "      <td>0.08455</td>\n",
       "      <td>0.10230</td>\n",
       "      <td>0.09251</td>\n",
       "      <td>0.05302</td>\n",
       "      <td>...</td>\n",
       "      <td>18.980</td>\n",
       "      <td>34.12</td>\n",
       "      <td>126.70</td>\n",
       "      <td>1124.0</td>\n",
       "      <td>0.11390</td>\n",
       "      <td>0.30940</td>\n",
       "      <td>0.3403</td>\n",
       "      <td>0.1418</td>\n",
       "      <td>0.2218</td>\n",
       "      <td>0.07820</td>\n",
       "    </tr>\n",
       "    <tr>\n",
       "      <td>567</td>\n",
       "      <td>927241</td>\n",
       "      <td>M</td>\n",
       "      <td>20.60</td>\n",
       "      <td>29.33</td>\n",
       "      <td>140.10</td>\n",
       "      <td>1265.0</td>\n",
       "      <td>0.11780</td>\n",
       "      <td>0.27700</td>\n",
       "      <td>0.35140</td>\n",
       "      <td>0.15200</td>\n",
       "      <td>...</td>\n",
       "      <td>25.740</td>\n",
       "      <td>39.42</td>\n",
       "      <td>184.60</td>\n",
       "      <td>1821.0</td>\n",
       "      <td>0.16500</td>\n",
       "      <td>0.86810</td>\n",
       "      <td>0.9387</td>\n",
       "      <td>0.2650</td>\n",
       "      <td>0.4087</td>\n",
       "      <td>0.12400</td>\n",
       "    </tr>\n",
       "    <tr>\n",
       "      <td>568</td>\n",
       "      <td>92751</td>\n",
       "      <td>B</td>\n",
       "      <td>7.76</td>\n",
       "      <td>24.54</td>\n",
       "      <td>47.92</td>\n",
       "      <td>181.0</td>\n",
       "      <td>0.05263</td>\n",
       "      <td>0.04362</td>\n",
       "      <td>0.00000</td>\n",
       "      <td>0.00000</td>\n",
       "      <td>...</td>\n",
       "      <td>9.456</td>\n",
       "      <td>30.37</td>\n",
       "      <td>59.16</td>\n",
       "      <td>268.6</td>\n",
       "      <td>0.08996</td>\n",
       "      <td>0.06444</td>\n",
       "      <td>0.0000</td>\n",
       "      <td>0.0000</td>\n",
       "      <td>0.2871</td>\n",
       "      <td>0.07039</td>\n",
       "    </tr>\n",
       "  </tbody>\n",
       "</table>\n",
       "<p>569 rows × 32 columns</p>\n",
       "</div>"
      ],
      "text/plain": [
       "           ID Diagnosis  Radius_1  Texture_1  Perimeter_1  Area_1  \\\n",
       "0      842302         M     17.99      10.38       122.80  1001.0   \n",
       "1      842517         M     20.57      17.77       132.90  1326.0   \n",
       "2    84300903         M     19.69      21.25       130.00  1203.0   \n",
       "3    84348301         M     11.42      20.38        77.58   386.1   \n",
       "4    84358402         M     20.29      14.34       135.10  1297.0   \n",
       "..        ...       ...       ...        ...          ...     ...   \n",
       "564    926424         M     21.56      22.39       142.00  1479.0   \n",
       "565    926682         M     20.13      28.25       131.20  1261.0   \n",
       "566    926954         M     16.60      28.08       108.30   858.1   \n",
       "567    927241         M     20.60      29.33       140.10  1265.0   \n",
       "568     92751         B      7.76      24.54        47.92   181.0   \n",
       "\n",
       "     Smoothness_1  Compactness_1  Concavity_1  Concave_Pts_1  ...  Radius_3  \\\n",
       "0         0.11840        0.27760      0.30010        0.14710  ...    25.380   \n",
       "1         0.08474        0.07864      0.08690        0.07017  ...    24.990   \n",
       "2         0.10960        0.15990      0.19740        0.12790  ...    23.570   \n",
       "3         0.14250        0.28390      0.24140        0.10520  ...    14.910   \n",
       "4         0.10030        0.13280      0.19800        0.10430  ...    22.540   \n",
       "..            ...            ...          ...            ...  ...       ...   \n",
       "564       0.11100        0.11590      0.24390        0.13890  ...    25.450   \n",
       "565       0.09780        0.10340      0.14400        0.09791  ...    23.690   \n",
       "566       0.08455        0.10230      0.09251        0.05302  ...    18.980   \n",
       "567       0.11780        0.27700      0.35140        0.15200  ...    25.740   \n",
       "568       0.05263        0.04362      0.00000        0.00000  ...     9.456   \n",
       "\n",
       "     Texture_3  Perimeter_3  Area_3  Smoothness_3  Compactness_3  Concavity_3  \\\n",
       "0        17.33       184.60  2019.0       0.16220        0.66560       0.7119   \n",
       "1        23.41       158.80  1956.0       0.12380        0.18660       0.2416   \n",
       "2        25.53       152.50  1709.0       0.14440        0.42450       0.4504   \n",
       "3        26.50        98.87   567.7       0.20980        0.86630       0.6869   \n",
       "4        16.67       152.20  1575.0       0.13740        0.20500       0.4000   \n",
       "..         ...          ...     ...           ...            ...          ...   \n",
       "564      26.40       166.10  2027.0       0.14100        0.21130       0.4107   \n",
       "565      38.25       155.00  1731.0       0.11660        0.19220       0.3215   \n",
       "566      34.12       126.70  1124.0       0.11390        0.30940       0.3403   \n",
       "567      39.42       184.60  1821.0       0.16500        0.86810       0.9387   \n",
       "568      30.37        59.16   268.6       0.08996        0.06444       0.0000   \n",
       "\n",
       "     Concave_Pts_3  Symmetry_3  Fractal_Dim_3  \n",
       "0           0.2654      0.4601        0.11890  \n",
       "1           0.1860      0.2750        0.08902  \n",
       "2           0.2430      0.3613        0.08758  \n",
       "3           0.2575      0.6638        0.17300  \n",
       "4           0.1625      0.2364        0.07678  \n",
       "..             ...         ...            ...  \n",
       "564         0.2216      0.2060        0.07115  \n",
       "565         0.1628      0.2572        0.06637  \n",
       "566         0.1418      0.2218        0.07820  \n",
       "567         0.2650      0.4087        0.12400  \n",
       "568         0.0000      0.2871        0.07039  \n",
       "\n",
       "[569 rows x 32 columns]"
      ]
     },
     "execution_count": 3,
     "metadata": {},
     "output_type": "execute_result"
    }
   ],
   "source": [
    "df"
   ]
  },
  {
   "cell_type": "code",
   "execution_count": 4,
   "metadata": {},
   "outputs": [],
   "source": [
    "# Get dependent and independent variables\n",
    "x = df.iloc[:, 2:]\n",
    "y = df.iloc[:, 1]"
   ]
  },
  {
   "cell_type": "markdown",
   "metadata": {},
   "source": [
    "### B. Monte-Carlo Simulation\n",
    "Perform the procedures 30 times, and compare the average accuracy, precision, recall, F1-score, and AUC from each."
   ]
  },
  {
   "cell_type": "code",
   "execution_count": 5,
   "metadata": {},
   "outputs": [],
   "source": [
    "m = 30"
   ]
  },
  {
   "cell_type": "markdown",
   "metadata": {},
   "source": [
    "### i. Supervised Learning"
   ]
  },
  {
   "cell_type": "markdown",
   "metadata": {},
   "source": [
    "First, determine parameter values for penalty to test in CV"
   ]
  },
  {
   "cell_type": "code",
   "execution_count": 6,
   "metadata": {},
   "outputs": [],
   "source": [
    "warnings.filterwarnings(\"ignore\")"
   ]
  },
  {
   "cell_type": "code",
   "execution_count": 7,
   "metadata": {},
   "outputs": [],
   "source": [
    "# Perform train test split, using 20% of both positive and negatvies classes as test set\n",
    "x_train, x_test, y_train, y_test = train_test_split(x, y, stratify=y, test_size=0.20)"
   ]
  },
  {
   "cell_type": "code",
   "execution_count": 8,
   "metadata": {},
   "outputs": [
    {
     "name": "stdout",
     "output_type": "stream",
     "text": [
      "Test Set Accuracy : 88.59649122807018 %\n"
     ]
    }
   ],
   "source": [
    "# Test L1 penalized SVM accuracy to determine parameter values to test in CV\n",
    "# Find range of penalty C for which accuracy is above 70%\n",
    "test_SVM_lowerC = LinearSVC(penalty='l1', dual=False, multi_class='ovr', C=10e-5)\n",
    "\n",
    "# Fitting the model with training data\n",
    "test_SVM_lowerC.fit(x_train, y_train)\n",
    "   \n",
    "# Making a prediction on the test set\n",
    "prediction = test_SVM_lowerC.predict(x_test)\n",
    "   \n",
    "# Evaluating the model\n",
    "print(f\"Test Set Accuracy : {accuracy_score(y_test, prediction) * 100} %\")"
   ]
  },
  {
   "cell_type": "code",
   "execution_count": 9,
   "metadata": {},
   "outputs": [
    {
     "name": "stdout",
     "output_type": "stream",
     "text": [
      "Test Set Accuracy : 95.6140350877193\n"
     ]
    }
   ],
   "source": [
    "# Test L1 penalized SVM accuracy to determine parameter values to test in CV\n",
    "# Find range of penalty C for which accuracy is above 70%\n",
    "test_SVM_upperC = LinearSVC(penalty='l1', dual=False, multi_class='ovr', C=10e5)\n",
    "\n",
    "# Fitting the model with training data\n",
    "test_SVM_upperC.fit(x_train, y_train)\n",
    "   \n",
    "# Making a prediction on the test set\n",
    "prediction = test_SVM_upperC.predict(x_test)\n",
    "   \n",
    "# Evaluating the model\n",
    "print(f\"Test Set Accuracy : {accuracy_score(y_test, prediction) * 100}\")"
   ]
  },
  {
   "cell_type": "code",
   "execution_count": 10,
   "metadata": {},
   "outputs": [
    {
     "name": "stdout",
     "output_type": "stream",
     "text": [
      "Cross validation test values for penalty parameter (C): \n",
      "[0.0001, 1, 1000000.0]\n"
     ]
    }
   ],
   "source": [
    "c_val = [10e-5, 1 ,10e5]\n",
    "print(\"Cross validation test values for penalty parameter (C): \")\n",
    "print(c_val)"
   ]
  },
  {
   "cell_type": "code",
   "execution_count": 11,
   "metadata": {},
   "outputs": [],
   "source": [
    "# Create lists to store results from each run\n",
    "accuracy_train_list_l1 = []\n",
    "precision_train_list_l1 = []\n",
    "recall_train_list_l1 = []\n",
    "f1_train_list_l1 = []\n",
    "auc_train_list_l1 = []\n",
    "\n",
    "accuracy_test_list_l1 = []\n",
    "precision_test_list_l1 = []\n",
    "recall_test_list_l1 = []\n",
    "f1_test_list_l1 = []\n",
    "auc_test_list_l1 = []"
   ]
  },
  {
   "cell_type": "markdown",
   "metadata": {},
   "source": [
    "Perform Monte Carlo simulation"
   ]
  },
  {
   "cell_type": "code",
   "execution_count": 12,
   "metadata": {},
   "outputs": [],
   "source": [
    "# Iterate M = 30 times\n",
    "iteration_num = np.arange(0, m, 1)\n",
    "for iteration in iteration_num:\n",
    "    \n",
    "    # Perform train test split, using 20% of both positive and negative classes as test set\n",
    "    x_train, x_test, y_train, y_test = train_test_split(x, y, stratify=y, test_size=0.20)\n",
    "    \n",
    "    # Normalize attributes\n",
    "    scaler = preprocessing.MinMaxScaler()\n",
    "\n",
    "    # Specify L1 penalty with linear kernel\n",
    "    # sklearn recommends dual=False when n_samples > n_features.\n",
    "    SVM_L1 = LinearSVC(penalty='l1', dual=False, multi_class='ovr')\n",
    "\n",
    "    # Cross validation parameters \n",
    "    param_grid = {'svml1__C': c_val}\n",
    "\n",
    "    # Set up cross validation\n",
    "    model_SVM_L1 =  Pipeline([(\"normalize\", scaler),\n",
    "                 (\"svml1\", SVM_L1)])\n",
    "    svm_l1_cv_param = GridSearchCV(estimator = model_SVM_L1, param_grid = param_grid, refit = True, cv=5, n_jobs=-1)\n",
    "\n",
    "    # Fitting the model with training data\n",
    "    svm_l1_cv_param.fit(x_train, y_train)\n",
    "\n",
    "    # Making predictions on train and test set\n",
    "    y_train_pred_l1 = svm_l1_cv_param.predict(x_train)\n",
    "    y_test_pred_l1 = svm_l1_cv_param.predict(x_test)\n",
    "\n",
    "    # Convert labels from \"B\" -> 0, \"M\" -> 1\n",
    "    y_train_pred_l1_bin = []\n",
    "    y_test_pred_l1_bin = []\n",
    "    y_train_bin = []\n",
    "    y_test_bin = []\n",
    "\n",
    "    for i in y_train_pred_l1:\n",
    "        if i == \"M\":\n",
    "            y_train_pred_l1_bin.append(1)\n",
    "        else:\n",
    "            y_train_pred_l1_bin.append(0)\n",
    "\n",
    "    for i in y_test_pred_l1:\n",
    "        if i == \"M\":\n",
    "            y_test_pred_l1_bin.append(1)\n",
    "        else:\n",
    "            y_test_pred_l1_bin.append(0)\n",
    "\n",
    "    for i in y_train:\n",
    "        if i == \"M\":\n",
    "            y_train_bin.append(1)\n",
    "        else:\n",
    "            y_train_bin.append(0)\n",
    "\n",
    "    for i in y_test:\n",
    "        if i == \"M\":\n",
    "            y_test_bin.append(1)\n",
    "        else:\n",
    "            y_test_bin.append(0)\n",
    "\n",
    "    # Evaluating the model\n",
    "    accuracy_train_l1 = accuracy_score(y_train,y_train_pred_l1)\n",
    "    accuracy_test_l1 = accuracy_score(y_test,y_test_pred_l1)\n",
    "    precision_train_l1 = precision_score(y_train,y_train_pred_l1, average = \"binary\", pos_label=\"M\")\n",
    "    precision_test_l1 = precision_score(y_test,y_test_pred_l1, average = \"binary\", pos_label=\"M\")\n",
    "    recall_train_l1 = recall_score(y_train,y_train_pred_l1, average=\"binary\", pos_label=\"M\")\n",
    "    recall_test_l1 = recall_score(y_test,y_test_pred_l1, average=\"binary\", pos_label=\"M\")\n",
    "    f1_train_l1 = f1_score(y_train,y_train_pred_l1, average=\"binary\", pos_label=\"M\")\n",
    "    f1_test_l1 = f1_score(y_test,y_test_pred_l1, average=\"binary\", pos_label=\"M\")\n",
    "    auc_train_l1 = roc_auc_score(y_train_bin, y_train_pred_l1_bin)\n",
    "    auc_test_l1 = roc_auc_score(y_test_bin, y_test_pred_l1_bin)\n",
    "\n",
    "\n",
    "    # Store model results\n",
    "    accuracy_train_list_l1.append(accuracy_train_l1)\n",
    "    accuracy_test_list_l1.append(accuracy_test_l1)\n",
    "    precision_train_list_l1.append(precision_train_l1)\n",
    "    precision_test_list_l1.append(precision_test_l1)\n",
    "    recall_train_list_l1.append(recall_train_l1)\n",
    "    recall_test_list_l1.append(recall_test_l1)\n",
    "    f1_train_list_l1.append(f1_train_l1)\n",
    "    f1_test_list_l1.append(f1_test_l1)\n",
    "    auc_train_list_l1.append(auc_train_l1)\n",
    "    auc_test_list_l1.append(auc_test_l1)\n",
    "    "
   ]
  },
  {
   "cell_type": "code",
   "execution_count": 13,
   "metadata": {},
   "outputs": [
    {
     "name": "stdout",
     "output_type": "stream",
     "text": [
      "Avg Accuracy - Train: 0.9847619047619047\n",
      "Avg Accuracy - Test: 0.9692982456140351\n",
      "Avg Precision - Train: 0.9906191317074147\n",
      "Avg Precision - Test: 0.9759440755129921\n",
      "Avg Recall - Train: 0.9684313725490196\n",
      "Avg Recall - Test: 0.9404761904761905\n",
      "Avg F1 Score - Train: 0.979376395560298\n",
      "Avg F1 Score - Test: 0.9573135176133618\n",
      "Avg AUC - Train: 0.9814671482628139\n",
      "Avg AUC - Test: 0.9632936507936508\n"
     ]
    }
   ],
   "source": [
    "# Output model results\n",
    "print(\"Avg Accuracy - Train: \" + str(mean(accuracy_train_list_l1)))\n",
    "print(\"Avg Accuracy - Test: \" + str(mean(accuracy_test_list_l1)))\n",
    "print(\"Avg Precision - Train: \" + str(mean(precision_train_list_l1)))\n",
    "print(\"Avg Precision - Test: \" + str(mean(precision_test_list_l1)))\n",
    "print(\"Avg Recall - Train: \" + str(mean(recall_train_list_l1)))\n",
    "print(\"Avg Recall - Test: \" + str(mean(recall_test_list_l1)))\n",
    "print(\"Avg F1 Score - Train: \" + str(mean(f1_train_list_l1)))\n",
    "print(\"Avg F1 Score - Test: \" + str(mean(f1_test_list_l1)))\n",
    "print(\"Avg AUC - Train: \" + str(mean(auc_train_list_l1)))\n",
    "print(\"Avg AUC - Test: \" + str(mean(auc_test_list_l1)))"
   ]
  },
  {
   "cell_type": "markdown",
   "metadata": {},
   "source": [
    "Show results for a single run"
   ]
  },
  {
   "cell_type": "code",
   "execution_count": 14,
   "metadata": {},
   "outputs": [
    {
     "name": "stdout",
     "output_type": "stream",
     "text": [
      "Cross-Validated SVM Penalty Weight: 1\n"
     ]
    }
   ],
   "source": [
    "print(\"Cross-Validated SVM Penalty Weight: \" + str(svm_l1_cv_param.best_params_['svml1__C']))"
   ]
  },
  {
   "cell_type": "code",
   "execution_count": 15,
   "metadata": {},
   "outputs": [
    {
     "name": "stdout",
     "output_type": "stream",
     "text": [
      "Confusion Matrix - Train:\n",
      "[[284   1]\n",
      " [  6 164]]\n",
      "\n",
      "Confusion Matrix - Test:\n",
      "[[70  2]\n",
      " [ 2 40]]\n"
     ]
    }
   ],
   "source": [
    "# Report Confusion Matrix\n",
    "print(\"Confusion Matrix - Train:\")\n",
    "print(confusion_matrix(y_train,y_train_pred_l1))\n",
    "print(\"\")\n",
    "print(\"Confusion Matrix - Test:\")\n",
    "print(confusion_matrix(y_test,y_test_pred_l1))"
   ]
  },
  {
   "cell_type": "code",
   "execution_count": 16,
   "metadata": {},
   "outputs": [
    {
     "data": {
      "image/png": "[encoded data removed]",
      "text/plain": [
       "<Figure size 432x288 with 1 Axes>"
      ]
     },
     "metadata": {
      "needs_background": "light"
     },
     "output_type": "display_data"
    }
   ],
   "source": [
    "# Plot ROC\n",
    "n_classes = [\"negative\", \"positive\"]\n",
    "fpr_train, tpr_train, _ = roc_curve(y_train_bin, y_train_pred_l1_bin, pos_label=1)\n",
    "roc_auc_train_l1 = roc_auc_score(y_train_bin, y_train_pred_l1_bin)\n",
    "\n",
    "plt.figure()\n",
    "plt.plot(fpr_train, tpr_train, label=\"L1 SVM Train(area= %0.2f)\" % roc_auc_train_l1)\n",
    "plt.plot([0,1], [0,1], \"r--\")\n",
    "plt.xlabel(\"False Positive Rate\")\n",
    "plt.ylabel(\"True Positive Rate\")\n",
    "plt.title(\"Receiver operation chracteristic\")\n",
    "plt.legend(loc=\"lower right\")\n",
    "\n",
    "plt.show()"
   ]
  },
  {
   "cell_type": "code",
   "execution_count": 17,
   "metadata": {
    "scrolled": true
   },
   "outputs": [
    {
     "data": {
      "image/png": "[encoded data removed]",
      "text/plain": [
       "<Figure size 432x288 with 1 Axes>"
      ]
     },
     "metadata": {
      "needs_background": "light"
     },
     "output_type": "display_data"
    }
   ],
   "source": [
    "# Plot ROC\n",
    "n_classes = [\"negative\", \"positive\"]\n",
    "fpr_train, tpr_train, _ = roc_curve(y_test_bin, y_test_pred_l1_bin, pos_label=1)\n",
    "roc_auc_test_l1 = roc_auc_score(y_test_bin, y_test_pred_l1_bin)\n",
    "\n",
    "plt.figure()\n",
    "plt.plot(fpr_train, tpr_train, label=\"L1 SVM Test(area= %0.2f)\" % roc_auc_test_l1)\n",
    "plt.plot([0,1], [0,1], \"r--\")\n",
    "plt.xlabel(\"False Positive Rate\")\n",
    "plt.ylabel(\"True Positive Rate\")\n",
    "plt.title(\"Receiver operation chracteristic\")\n",
    "plt.legend(loc=\"lower right\")\n",
    "\n",
    "plt.show()"
   ]
  },
  {
   "cell_type": "markdown",
   "metadata": {},
   "source": [
    "### ii. Semi-Supervised Learning/Self-Training"
   ]
  },
  {
   "cell_type": "markdown",
   "metadata": {},
   "source": [
    "#### A. Train L1 penalized SVM to classify the labeled data"
   ]
  },
  {
   "cell_type": "code",
   "execution_count": 18,
   "metadata": {},
   "outputs": [],
   "source": [
    "# Select 50% of both positive and negative classes as labeled data\n",
    "x_labeled, x_unlabeled, y_labeled, y_unlabeled = train_test_split(x_train, y_train, stratify=y_train, test_size=0.50)"
   ]
  },
  {
   "cell_type": "code",
   "execution_count": 19,
   "metadata": {},
   "outputs": [],
   "source": [
    "# Normalize attributes\n",
    "scaler = preprocessing.MinMaxScaler()\n",
    "\n",
    "# Specify L1 penalty with linear kernel\n",
    "# sklearn recommends dual=False when n_samples > n_features.\n",
    "SVM_L1_lab = LinearSVC(penalty='l1', dual=False, multi_class='ovr')\n",
    "\n",
    "# Cross validation parameters \n",
    "param_grid = {'svml1_lab__C': c_val}\n",
    "\n",
    "# Set up cross validation\n",
    "model_SVM_L1_lab =  Pipeline([(\"normalize\", scaler),\n",
    "             (\"svml1_lab\", SVM_L1_lab)])\n",
    "svm_l1_lab_cv_param = GridSearchCV(estimator = model_SVM_L1_lab, param_grid = param_grid, refit = True, cv=5, n_jobs=-1)\n",
    "\n",
    "# Fitting the model with training data\n",
    "svm_l1_lab_cv_param.fit(x_labeled, y_labeled)\n",
    "\n",
    "# Making predictions on train and test set\n",
    "y_train_pred_l1_lab = svm_l1_lab_cv_param.predict(x_labeled)"
   ]
  },
  {
   "cell_type": "code",
   "execution_count": 20,
   "metadata": {},
   "outputs": [
    {
     "name": "stdout",
     "output_type": "stream",
     "text": [
      "Cross-Validated SVM Penalty Weight: 1\n"
     ]
    }
   ],
   "source": [
    "print(\"Cross-Validated SVM Penalty Weight: \" + str(svm_l1_lab_cv_param.best_params_['svml1_lab__C']))"
   ]
  },
  {
   "cell_type": "markdown",
   "metadata": {},
   "source": [
    "#### B. Find unlabeled data point furthest from decision boundary of SVM,  let SVM label it, add to labeled data, and retrain SVM. Iterate process for all unlabeled data."
   ]
  },
  {
   "cell_type": "code",
   "execution_count": 21,
   "metadata": {},
   "outputs": [],
   "source": [
    "# Convert y values to lists\n",
    "y_labeled = y_labeled.tolist()\n",
    "y_unlabeled = y_unlabeled.tolist()"
   ]
  },
  {
   "cell_type": "code",
   "execution_count": 22,
   "metadata": {},
   "outputs": [],
   "source": [
    "for i in range(0,len(y_unlabeled)):\n",
    "        \n",
    "    # Find decision boundary of SVM\n",
    "    SVM_L1_lab.fit(x_labeled, y_labeled)\n",
    "\n",
    "    # Find unlabeled data point farthest to SVM decision boundary\n",
    "    y_unlabeled_pred = SVM_L1_lab.decision_function(x_unlabeled)\n",
    "    w_norm = np.linalg.norm(SVM_L1_lab.coef_)\n",
    "    distance = y_unlabeled_pred / w_norm\n",
    "    distance = distance.tolist()\n",
    "    minpos = distance.index(min(distance))\n",
    "    \n",
    "    # Label point using SVM\n",
    "    result_array = SVM_L1_lab.decision_function(x_unlabeled)\n",
    "    confid_score = result_array[int(minpos)]\n",
    "    if confid_score > 0:\n",
    "        SVM_label = \"M\"\n",
    "    else:\n",
    "        SVM_label = \"B\"\n",
    "        \n",
    "    # Add the classified point to labeled data values\n",
    "    x_unlabeled_point = x_unlabeled.iloc[int(minpos)]   \n",
    "    x_labeled = x_labeled.append(x_unlabeled_point, ignore_index=True)\n",
    "        \n",
    "    y_labeled.append(SVM_label)\n",
    "    \n",
    "    # Remove point from unlabeled data\n",
    "    x_unlabeled.drop(x_unlabeled.index[minpos], inplace=True)\n",
    "\n",
    "    y_unlabeled.pop(int(minpos))\n",
    "\n",
    "    # Retrain SVM\n",
    "    SVM_L1_lab.fit(x_labeled, y_labeled)"
   ]
  },
  {
   "cell_type": "code",
   "execution_count": 23,
   "metadata": {},
   "outputs": [
    {
     "name": "stdout",
     "output_type": "stream",
     "text": [
      "Unlabeled dataset length: 0\n"
     ]
    }
   ],
   "source": [
    "# Check that all unlabeled data has been used\n",
    "print(\"Unlabeled dataset length: \" + str(len(x_unlabeled)))"
   ]
  },
  {
   "cell_type": "code",
   "execution_count": 24,
   "metadata": {},
   "outputs": [],
   "source": [
    "# Create lists to store results from each run\n",
    "accuracy_train_list_l1_lab = []\n",
    "precision_train_list_l1_lab = []\n",
    "recall_train_list_l1_lab = []\n",
    "f1_train_list_l1_lab = []\n",
    "auc_train_list_l1_lab = []\n",
    "\n",
    "accuracy_test_list_l1_lab = []\n",
    "precision_test_list_l1_lab = []\n",
    "recall_test_list_l1_lab = []\n",
    "f1_test_list_l1_lab = []\n",
    "auc_test_list_l1_lab = []"
   ]
  },
  {
   "cell_type": "code",
   "execution_count": 25,
   "metadata": {},
   "outputs": [],
   "source": [
    "# Iterate M = 30 times\n",
    "iteration_num = np.arange(0, m, 1)\n",
    "for iteration in iteration_num:\n",
    "    # Making predictions on train and test set\n",
    "    y_train_pred_l1 = SVM_L1_lab.predict(x_train)\n",
    "    y_test_pred_l1 = SVM_L1_lab.predict(x_test)\n",
    "\n",
    "    # Convert labels from \"B\" -> 0, \"M\" -> 1\n",
    "    y_train_pred_l1_bin = []\n",
    "    y_test_pred_l1_bin = []\n",
    "    y_train_bin = []\n",
    "    y_test_bin = []\n",
    "\n",
    "    for i in y_train_pred_l1:\n",
    "        if i == \"M\":\n",
    "            y_train_pred_l1_bin.append(1)\n",
    "        else:\n",
    "            y_train_pred_l1_bin.append(0)\n",
    "\n",
    "    for i in y_test_pred_l1:\n",
    "        if i == \"M\":\n",
    "            y_test_pred_l1_bin.append(1)\n",
    "        else:\n",
    "            y_test_pred_l1_bin.append(0)\n",
    "\n",
    "    for i in y_train:\n",
    "        if i == \"M\":\n",
    "            y_train_bin.append(1)\n",
    "        else:\n",
    "            y_train_bin.append(0)\n",
    "\n",
    "    for i in y_test:\n",
    "        if i == \"M\":\n",
    "            y_test_bin.append(1)\n",
    "        else:\n",
    "            y_test_bin.append(0)\n",
    "\n",
    "    # Evaluating the model\n",
    "    accuracy_train_l1 = accuracy_score(y_train,y_train_pred_l1)\n",
    "    accuracy_test_l1 = accuracy_score(y_test,y_test_pred_l1)\n",
    "    precision_train_l1 = precision_score(y_train,y_train_pred_l1, average = \"binary\", pos_label=\"M\")\n",
    "    precision_test_l1 = precision_score(y_test,y_test_pred_l1, average = \"binary\", pos_label=\"M\")\n",
    "    recall_train_l1 = recall_score(y_train,y_train_pred_l1, average=\"binary\", pos_label=\"M\")\n",
    "    recall_test_l1 = recall_score(y_test,y_test_pred_l1, average=\"binary\", pos_label=\"M\")\n",
    "    f1_train_l1 = f1_score(y_train,y_train_pred_l1, average=\"binary\", pos_label=\"M\")\n",
    "    f1_test_l1 = f1_score(y_test,y_test_pred_l1, average=\"binary\", pos_label=\"M\")\n",
    "    auc_train_l1 = roc_auc_score(y_train_bin, y_train_pred_l1_bin)\n",
    "    auc_test_l1 = roc_auc_score(y_test_bin, y_test_pred_l1_bin)\n",
    "\n",
    "\n",
    "    # Store model results\n",
    "    accuracy_train_list_l1.append(accuracy_train_l1)\n",
    "    accuracy_test_list_l1.append(accuracy_test_l1)\n",
    "    precision_train_list_l1.append(precision_train_l1)\n",
    "    precision_test_list_l1.append(precision_test_l1)\n",
    "    recall_train_list_l1.append(recall_train_l1)\n",
    "    recall_test_list_l1.append(recall_test_l1)\n",
    "    f1_train_list_l1.append(f1_train_l1)\n",
    "    f1_test_list_l1.append(f1_test_l1)\n",
    "    auc_train_list_l1.append(auc_train_l1)\n",
    "    auc_test_list_l1.append(auc_test_l1)"
   ]
  },
  {
   "cell_type": "code",
   "execution_count": 26,
   "metadata": {},
   "outputs": [
    {
     "name": "stdout",
     "output_type": "stream",
     "text": [
      "Avg Accuracy - Train: 0.9693040293040294\n",
      "Avg Accuracy - Test: 0.9583333333333333\n",
      "Avg Precision - Train: 0.9631458231636488\n",
      "Avg Precision - Test: 0.9425174923019506\n",
      "Avg Recall - Train: 0.9548039215686275\n",
      "Avg Recall - Test: 0.9464285714285714\n",
      "Avg F1 Score - Train: 0.958896408923844\n",
      "Avg F1 Score - Test: 0.9437730378764484\n",
      "Avg AUC - Train: 0.9663785689714482\n",
      "Avg AUC - Test: 0.9558531746031746\n"
     ]
    }
   ],
   "source": [
    "# Output model results\n",
    "print(\"Avg Accuracy - Train: \" + str(mean(accuracy_train_list_l1)))\n",
    "print(\"Avg Accuracy - Test: \" + str(mean(accuracy_test_list_l1)))\n",
    "print(\"Avg Precision - Train: \" + str(mean(precision_train_list_l1)))\n",
    "print(\"Avg Precision - Test: \" + str(mean(precision_test_list_l1)))\n",
    "print(\"Avg Recall - Train: \" + str(mean(recall_train_list_l1)))\n",
    "print(\"Avg Recall - Test: \" + str(mean(recall_test_list_l1)))\n",
    "print(\"Avg F1 Score - Train: \" + str(mean(f1_train_list_l1)))\n",
    "print(\"Avg F1 Score - Test: \" + str(mean(f1_test_list_l1)))\n",
    "print(\"Avg AUC - Train: \" + str(mean(auc_train_list_l1)))\n",
    "print(\"Avg AUC - Test: \" + str(mean(auc_test_list_l1)))"
   ]
  },
  {
   "cell_type": "markdown",
   "metadata": {},
   "source": [
    "Show results for a single run"
   ]
  },
  {
   "cell_type": "code",
   "execution_count": 27,
   "metadata": {},
   "outputs": [
    {
     "name": "stdout",
     "output_type": "stream",
     "text": [
      "Cross-Validated SVM Penalty Weight: 1\n"
     ]
    }
   ],
   "source": [
    "print(\"Cross-Validated SVM Penalty Weight: \" + str(svm_l1_cv_param.best_params_['svml1__C']))"
   ]
  },
  {
   "cell_type": "code",
   "execution_count": 28,
   "metadata": {},
   "outputs": [
    {
     "name": "stdout",
     "output_type": "stream",
     "text": [
      "Confusion Matrix - Train:\n",
      "[[274  11]\n",
      " [ 10 160]]\n",
      "\n",
      "Confusion Matrix - Test:\n",
      "[[68  4]\n",
      " [ 2 40]]\n"
     ]
    }
   ],
   "source": [
    "# Report Confusion Matrix\n",
    "print(\"Confusion Matrix - Train:\")\n",
    "print(confusion_matrix(y_train,y_train_pred_l1))\n",
    "print(\"\")\n",
    "print(\"Confusion Matrix - Test:\")\n",
    "print(confusion_matrix(y_test,y_test_pred_l1))"
   ]
  },
  {
   "cell_type": "code",
   "execution_count": 29,
   "metadata": {},
   "outputs": [
    {
     "data": {
      "image/png": "[encoded data removed]",
      "text/plain": [
       "<Figure size 432x288 with 1 Axes>"
      ]
     },
     "metadata": {
      "needs_background": "light"
     },
     "output_type": "display_data"
    }
   ],
   "source": [
    "# Plot ROC\n",
    "n_classes = [\"negative\", \"positive\"]\n",
    "fpr_train, tpr_train, _ = roc_curve(y_train_bin, y_train_pred_l1_bin, pos_label=1)\n",
    "roc_auc_train_l1 = roc_auc_score(y_train_bin, y_train_pred_l1_bin)\n",
    "\n",
    "plt.figure()\n",
    "plt.plot(fpr_train, tpr_train, label=\"L1 SVM Train(area= %0.2f)\" % roc_auc_train_l1)\n",
    "plt.plot([0,1], [0,1], \"r--\")\n",
    "plt.xlabel(\"False Positive Rate\")\n",
    "plt.ylabel(\"True Positive Rate\")\n",
    "plt.title(\"Receiver operation chracteristic\")\n",
    "plt.legend(loc=\"lower right\")\n",
    "\n",
    "plt.show()"
   ]
  },
  {
   "cell_type": "code",
   "execution_count": 30,
   "metadata": {
    "scrolled": true
   },
   "outputs": [
    {
     "data": {
      "image/png": "[encoded data removed]",
      "text/plain": [
       "<Figure size 432x288 with 1 Axes>"
      ]
     },
     "metadata": {
      "needs_background": "light"
     },
     "output_type": "display_data"
    }
   ],
   "source": [
    "# Plot ROC\n",
    "n_classes = [\"negative\", \"positive\"]\n",
    "fpr_train, tpr_train, _ = roc_curve(y_test_bin, y_test_pred_l1_bin, pos_label=1)\n",
    "roc_auc_test_l1 = roc_auc_score(y_test_bin, y_test_pred_l1_bin)\n",
    "\n",
    "plt.figure()\n",
    "plt.plot(fpr_train, tpr_train, label=\"L1 SVM Test(area= %0.2f)\" % roc_auc_test_l1)\n",
    "plt.plot([0,1], [0,1], \"r--\")\n",
    "plt.xlabel(\"False Positive Rate\")\n",
    "plt.ylabel(\"True Positive Rate\")\n",
    "plt.title(\"Receiver operation chracteristic\")\n",
    "plt.legend(loc=\"lower right\")\n",
    "\n",
    "plt.show()"
   ]
  },
  {
   "cell_type": "markdown",
   "metadata": {},
   "source": [
    "### iii. Unsupervised Learning"
   ]
  },
  {
   "cell_type": "markdown",
   "metadata": {},
   "source": [
    "#### A. Run k-means on training set. Note: ignoring labels, k=2, and initilize the algorithm randomly"
   ]
  },
  {
   "cell_type": "markdown",
   "metadata": {},
   "source": [
    "How do we make sure the k-means algorithim is not trapped in a local minimum?<br><br>The k-means algorithm converges to a clustering assignment so that the centers do not change; however, it is prone to converging on local minima. One way to prevent this is to run the k-means algorithm multiple times and selecting the run that gives the best error would better approximate the glocal minimum. In theory, if we iterate over all possible clusterings we will be able to find the global minimum; by running k-means multiple times we try to approximate this."
   ]
  },
  {
   "cell_type": "markdown",
   "metadata": {},
   "source": [
    "#### B. Compute centers of two cluster and find closest 30 data points. Read the true labels and take a majority poll as label predictions. Compare predicted labels with true labels. Report average accuracy, precision, recall, F1-score, and AUC, and ROC and confusion matrix for one run."
   ]
  },
  {
   "cell_type": "code",
   "execution_count": 31,
   "metadata": {},
   "outputs": [],
   "source": [
    "# Create lists to store results from each run\n",
    "accuracy_list_km = []\n",
    "precision_list_km = []\n",
    "recall_list_km = []\n",
    "f1_list_km = []\n",
    "auc_list_km = []"
   ]
  },
  {
   "cell_type": "code",
   "execution_count": 32,
   "metadata": {},
   "outputs": [],
   "source": [
    "k = 2\n",
    "\n",
    "# Iterate M = 30 times\n",
    "iteration_num = np.arange(0, m, 1)\n",
    "for iteration in iteration_num:\n",
    "    kmeans = KMeans(n_clusters=k, init = \"random\", n_init = 30)\n",
    "    kmeans.fit(x_train)\n",
    "    \n",
    "    # Compute centers of clusters\n",
    "    center_list = kmeans.cluster_centers_\n",
    "    \n",
    "    # Find 30 closest data points to each center\n",
    "    dist_store = []\n",
    "    filtered_index_store = []\n",
    "\n",
    "    for center in center_list:\n",
    "        dist = np.linalg.norm(x_train - center,axis=1).reshape(-1,1)\n",
    "        dist_store.append(dist)\n",
    "\n",
    "    for dist_list in dist_store:\n",
    "        clean_list = []\n",
    "        for distance in dist_list:\n",
    "            clean_list.append(distance[0])\n",
    "        sort_index = np.argsort(clean_list)\n",
    "        filtered_index = sort_index[:30].tolist()\n",
    "        filtered_index_store.append(filtered_index)        \n",
    "\n",
    "    # Read the true labels of each 30 data points\n",
    "    y_train_reset = y_train.reset_index(drop=True)\n",
    "    cluster_list = []\n",
    "    for index_list in filtered_index_store:\n",
    "        true_labels = []\n",
    "        for index in index_list:\n",
    "            true_labels.append(y_train_reset[index])\n",
    "        cluster_list.append(true_labels)\n",
    "    \n",
    "    # Majority polling\n",
    "    majority_label = []\n",
    "    for cluster in cluster_list:\n",
    "        majority_counter = Counter(cluster)\n",
    "        majority_label.append(majority_counter.most_common(1)[0][0])\n",
    "\n",
    "    # Reassign majority label to points \n",
    "    pred_label_list = []\n",
    "    for counter in range(len(filtered_index_store)):\n",
    "        cluster = filtered_index_store[counter]\n",
    "        pred_labels = []\n",
    "        for i in cluster:\n",
    "            pred_labels.append(majority_label[counter])\n",
    "        pred_label_list.append(pred_labels)\n",
    "\n",
    "    # Convert labels from \"B\" -> 0, \"M\" -> 1\n",
    "    all_pred_labels = []\n",
    "    all_true_labels = []\n",
    "\n",
    "    for cluster in pred_label_list:\n",
    "        pred_label_binary = []\n",
    "        for i in cluster:\n",
    "            if i == \"M\":\n",
    "                pred_label_binary.append(1)\n",
    "            else:\n",
    "                pred_label_binary.append(0)\n",
    "        all_pred_labels.extend(pred_label_binary)\n",
    "\n",
    "    for cluster in cluster_list:\n",
    "        true_label_binary = []\n",
    "        for i in cluster:\n",
    "            if i == \"M\":\n",
    "                true_label_binary.append(1)\n",
    "            else:\n",
    "                true_label_binary.append(0)\n",
    "        all_true_labels.extend(true_label_binary)\n",
    "\n",
    "    # Compare labels predicted labels with true labels\n",
    "    accuracy_km = accuracy_score(all_true_labels,all_pred_labels)\n",
    "    precision_km = precision_score(all_true_labels,all_pred_labels)\n",
    "    recall_km = recall_score(all_true_labels,all_pred_labels)\n",
    "    f1_km = f1_score(all_true_labels,all_pred_labels)\n",
    "    auc_km = roc_auc_score(all_true_labels, all_pred_labels)\n",
    "\n",
    "\n",
    "    # Store model results\n",
    "    accuracy_list_km.append(accuracy_km)\n",
    "    precision_list_km.append(precision_km)\n",
    "    recall_list_km.append(recall_km)\n",
    "    f1_list_km.append(f1_km)\n",
    "    auc_list_km.append(auc_km)"
   ]
  },
  {
   "cell_type": "code",
   "execution_count": 33,
   "metadata": {},
   "outputs": [
    {
     "name": "stdout",
     "output_type": "stream",
     "text": [
      "Avg Accuracy - K Means: 0.9833333333333333\n",
      "Avg Precision - K Means: 1.0\n",
      "Avg Recall - K Means: 0.967741935483871\n",
      "Avg F1 Score - K Means: 0.9836065573770492\n",
      "Avg AUC - K Means: 0.9838709677419355\n"
     ]
    }
   ],
   "source": [
    "# Output model results\n",
    "print(\"Avg Accuracy - K Means: \" + str(mean(accuracy_list_km)))\n",
    "print(\"Avg Precision - K Means: \" + str(mean(precision_list_km)))\n",
    "print(\"Avg Recall - K Means: \" + str(mean(recall_list_km)))\n",
    "print(\"Avg F1 Score - K Means: \" + str(mean(f1_list_km)))\n",
    "print(\"Avg AUC - K Means: \" + str(mean(auc_list_km)))"
   ]
  },
  {
   "cell_type": "markdown",
   "metadata": {},
   "source": [
    "Show results for a single run"
   ]
  },
  {
   "cell_type": "code",
   "execution_count": 34,
   "metadata": {},
   "outputs": [
    {
     "name": "stdout",
     "output_type": "stream",
     "text": [
      "Confusion Matrix - K Means:\n",
      "[[29  0]\n",
      " [ 1 30]]\n"
     ]
    }
   ],
   "source": [
    "# Report Confusion Matrix\n",
    "print(\"Confusion Matrix - K Means:\")\n",
    "print(confusion_matrix(all_true_labels,all_pred_labels))"
   ]
  },
  {
   "cell_type": "code",
   "execution_count": 35,
   "metadata": {
    "scrolled": true
   },
   "outputs": [
    {
     "data": {
      "image/png": "[encoded data removed]",
      "text/plain": [
       "<Figure size 432x288 with 1 Axes>"
      ]
     },
     "metadata": {
      "needs_background": "light"
     },
     "output_type": "display_data"
    }
   ],
   "source": [
    "# Plot ROC\n",
    "n_classes = [\"negative\", \"positive\"]\n",
    "fpr_train, tpr_train, _ = roc_curve(all_true_labels,all_pred_labels, pos_label=1)\n",
    "roc_auc_km = roc_auc_score(all_true_labels,all_pred_labels)\n",
    "\n",
    "plt.figure()\n",
    "plt.plot(fpr_train, tpr_train, label= \"K Means(area= %0.2f)\" % roc_auc_km)\n",
    "plt.plot([0,1], [0,1], \"r--\")\n",
    "plt.xlabel(\"False Positive Rate\")\n",
    "plt.ylabel(\"True Positive Rate\")\n",
    "plt.title(\"Receiver operation chracteristic\")\n",
    "plt.legend(loc=\"lower right\")\n",
    "\n",
    "plt.show()"
   ]
  },
  {
   "cell_type": "markdown",
   "metadata": {},
   "source": [
    "#### C. Classify test data based on proximity to cluster centers. Report average accuracy, precision, recall, F1 score, AUC over M runs, and ROC and confusion matrix for one run for test data."
   ]
  },
  {
   "cell_type": "code",
   "execution_count": 36,
   "metadata": {},
   "outputs": [],
   "source": [
    "# Create lists to store results from each run\n",
    "accuracy_list_test = []\n",
    "precision_list_test = []\n",
    "recall_list_test = []\n",
    "f1_list_test = []\n",
    "auc_list_test = []"
   ]
  },
  {
   "cell_type": "code",
   "execution_count": 37,
   "metadata": {},
   "outputs": [],
   "source": [
    "# Iterate M = 30 times\n",
    "iteration_num = np.arange(0, m, 1)\n",
    "for iteration in iteration_num:\n",
    "    \n",
    "    # Get distances test points to single cluster center (those not classified to this cluster will be classified to the second)\n",
    "    dist = np.linalg.norm(x_test - center_list[0],axis=1).reshape(-1,1)\n",
    "    dist_format = []\n",
    "    for i in dist:\n",
    "        dist_format.append(i[0])\n",
    "    \n",
    "    # Calculate probabilities using softmax\n",
    "    test_prob= softmax(dist_format)\n",
    "    \n",
    "    # If probability is greater than 0.5, classify to the cluster\n",
    "    pred_labels = []\n",
    "    for prob in test_prob:\n",
    "        if prob > 0.5:\n",
    "            pred_labels.append(majority_label[0])\n",
    "        else:\n",
    "            pred_labels.append(majority_label[1])\n",
    "    \n",
    "    # Convert labels from \"B\" -> 0, \"M\" -> 1\n",
    "    all_pred_labels_test = []\n",
    "    all_true_labels_test = []\n",
    "\n",
    "    for i in pred_labels:\n",
    "        if i == \"M\":\n",
    "            all_pred_labels_test.append(1)\n",
    "        else:\n",
    "            all_pred_labels_test.append(0)\n",
    "\n",
    "    for i in y_test:\n",
    "        if i == \"M\":\n",
    "            all_true_labels_test.append(1)\n",
    "        else:\n",
    "            all_true_labels_test.append(0)\n",
    "\n",
    "    # Compare labels predicted labels with true labels\n",
    "    accuracy_test = accuracy_score(all_true_labels_test,all_pred_labels_test)\n",
    "    precision_test = precision_score(all_true_labels_test,all_pred_labels_test)\n",
    "    recall_test = recall_score(all_true_labels_test,all_pred_labels_test)\n",
    "    f1_test = f1_score(all_true_labels_test,all_pred_labels_test)\n",
    "    auc_test = roc_auc_score(all_true_labels_test, all_pred_labels_test)\n",
    "\n",
    "    #Store model results\n",
    "    accuracy_list_test.append(accuracy_test)\n",
    "    precision_list_test.append(precision_test)\n",
    "    recall_list_test.append(recall_test)\n",
    "    f1_list_test.append(f1_test)\n",
    "    auc_list_test.append(auc_test)"
   ]
  },
  {
   "cell_type": "code",
   "execution_count": 38,
   "metadata": {},
   "outputs": [
    {
     "name": "stdout",
     "output_type": "stream",
     "text": [
      "Avg Accuracy - K Means Test: 0.35964912280701755\n",
      "Avg Precision - K Means Test: 0.36283185840707965\n",
      "Avg Recall - K Means Test: 0.9761904761904762\n",
      "Avg F1 Score - K Means Test: 0.5290322580645161\n",
      "Avg AUC - K Means Test: 0.4880952380952381\n"
     ]
    }
   ],
   "source": [
    "# Output model results\n",
    "print(\"Avg Accuracy - K Means Test: \" + str(mean(accuracy_list_test)))\n",
    "print(\"Avg Precision - K Means Test: \" + str(mean(precision_list_test)))\n",
    "print(\"Avg Recall - K Means Test: \" + str(mean(recall_list_test)))\n",
    "print(\"Avg F1 Score - K Means Test: \" + str(mean(f1_list_test)))\n",
    "print(\"Avg AUC - K Means Test: \" + str(mean(auc_list_test)))"
   ]
  },
  {
   "cell_type": "markdown",
   "metadata": {},
   "source": [
    "Show results for a single run"
   ]
  },
  {
   "cell_type": "code",
   "execution_count": 39,
   "metadata": {},
   "outputs": [
    {
     "name": "stdout",
     "output_type": "stream",
     "text": [
      "Confusion Matrix - K Means Test:\n",
      "[[ 0 72]\n",
      " [ 1 41]]\n"
     ]
    }
   ],
   "source": [
    "# Report Confusion Matrix\n",
    "print(\"Confusion Matrix - K Means Test:\")\n",
    "print(confusion_matrix(all_true_labels_test,all_pred_labels_test))"
   ]
  },
  {
   "cell_type": "code",
   "execution_count": 40,
   "metadata": {
    "scrolled": true
   },
   "outputs": [
    {
     "data": {
      "image/png": "[encoded data removed]",
      "text/plain": [
       "<Figure size 432x288 with 1 Axes>"
      ]
     },
     "metadata": {
      "needs_background": "light"
     },
     "output_type": "display_data"
    }
   ],
   "source": [
    "# Plot ROC\n",
    "n_classes = [\"negative\", \"positive\"]\n",
    "fpr_train, tpr_train, _ = roc_curve(all_true_labels_test,all_pred_labels_test, pos_label=1)\n",
    "roc_auc_test = roc_auc_score(all_true_labels_test,all_pred_labels_test)\n",
    "\n",
    "plt.figure()\n",
    "plt.plot(fpr_train, tpr_train, label= \"K Means Test(area= %0.2f)\" % roc_auc_test)\n",
    "plt.plot([0,1], [0,1], \"r--\")\n",
    "plt.xlabel(\"False Positive Rate\")\n",
    "plt.ylabel(\"True Positive Rate\")\n",
    "plt.title(\"Receiver operation chracteristic\")\n",
    "plt.legend(loc=\"lower right\")\n",
    "\n",
    "plt.show()"
   ]
  },
  {
   "cell_type": "markdown",
   "metadata": {},
   "source": [
    "### iv. Spectral Clustering"
   ]
  },
  {
   "cell_type": "markdown",
   "metadata": {},
   "source": [
    "#### B. Compare predicted labels with true labels for train data. Report average accuracy, precision, recall, F1-score, and AUC, and ROC and confusion matrix for one run."
   ]
  },
  {
   "cell_type": "code",
   "execution_count": 41,
   "metadata": {},
   "outputs": [],
   "source": [
    "# Create lists to store results from each run\n",
    "accuracy_list_spec = []\n",
    "precision_list_spec = []\n",
    "recall_list_spec = []\n",
    "f1_list_spec = []\n",
    "auc_list_spec = []"
   ]
  },
  {
   "cell_type": "code",
   "execution_count": 42,
   "metadata": {},
   "outputs": [],
   "source": [
    "# Iterate M = 30 times\n",
    "iteration_num = np.arange(0, m, 1)\n",
    "for iteration in iteration_num:\n",
    "    \n",
    "    # Spectral clustering with RBF kernel, gamma = 1\n",
    "    clustering = SpectralClustering(n_clusters=2, assign_labels='discretize', random_state=0)\n",
    "    cluster_labels = clustering.fit_predict(x_train)        \n",
    "\n",
    "    # Convert labels from \"B\" -> 0, \"M\" -> 1\n",
    "    all_true_labels = []\n",
    "    for val in y_train:\n",
    "        if val == \"M\":\n",
    "            all_true_labels.append(1)\n",
    "        else:\n",
    "            all_true_labels.append(0)\n",
    "\n",
    "    # Compare labels predicted labels with true labels\n",
    "    accuracy_train_spec = accuracy_score(all_true_labels,cluster_labels)\n",
    "    precision_train_spec = precision_score(all_true_labels,cluster_labels)\n",
    "    recall_train_spec = recall_score(all_true_labels,cluster_labels)\n",
    "    f1_train_spec = f1_score(all_true_labels,cluster_labels)\n",
    "    auc_train_spec = roc_auc_score(all_true_labels, cluster_labels)\n",
    "\n",
    "    # Store model results\n",
    "    accuracy_list_spec.append(accuracy_train_spec)\n",
    "    precision_list_spec.append(precision_train_spec)\n",
    "    recall_list_spec.append(recall_train_spec)\n",
    "    f1_list_spec.append(f1_train_spec)\n",
    "    auc_list_spec.append(auc_train_spec)"
   ]
  },
  {
   "cell_type": "code",
   "execution_count": 43,
   "metadata": {},
   "outputs": [
    {
     "name": "stdout",
     "output_type": "stream",
     "text": [
      "Avg Accuracy - Spectral: 0.6263736263736264\n",
      "Avg Precision - Spectral: 0.0\n",
      "Avg Recall - Spectral: 0.0\n",
      "Avg F1 Score - Spectral: 0.0\n",
      "Avg AUC - Spectral: 0.5\n"
     ]
    }
   ],
   "source": [
    "# Output model results\n",
    "print(\"Avg Accuracy - Spectral: \" + str(mean(accuracy_list_spec)))\n",
    "print(\"Avg Precision - Spectral: \" + str(mean(precision_list_spec)))\n",
    "print(\"Avg Recall - Spectral: \" + str(mean(recall_list_spec)))\n",
    "print(\"Avg F1 Score - Spectral: \" + str(mean(f1_list_spec)))\n",
    "print(\"Avg AUC - Spectral: \" + str(mean(auc_list_spec)))"
   ]
  },
  {
   "cell_type": "markdown",
   "metadata": {},
   "source": [
    "Show results for a single run"
   ]
  },
  {
   "cell_type": "code",
   "execution_count": 44,
   "metadata": {},
   "outputs": [
    {
     "name": "stdout",
     "output_type": "stream",
     "text": [
      "Confusion Matrix - Spectral:\n",
      "[[285   0]\n",
      " [170   0]]\n"
     ]
    }
   ],
   "source": [
    "# Report Confusion Matrix\n",
    "print(\"Confusion Matrix - Spectral:\")\n",
    "print(confusion_matrix(all_true_labels,cluster_labels))"
   ]
  },
  {
   "cell_type": "code",
   "execution_count": 45,
   "metadata": {
    "scrolled": true
   },
   "outputs": [
    {
     "data": {
      "image/png": "[encoded data removed]",
      "text/plain": [
       "<Figure size 432x288 with 1 Axes>"
      ]
     },
     "metadata": {
      "needs_background": "light"
     },
     "output_type": "display_data"
    }
   ],
   "source": [
    "# Plot ROC\n",
    "n_classes = [\"negative\", \"positive\"]\n",
    "fpr_train, tpr_train, _ = roc_curve(all_true_labels,cluster_labels, pos_label=1)\n",
    "roc_auc_spec = roc_auc_score(all_true_labels,cluster_labels)\n",
    "\n",
    "plt.figure()\n",
    "plt.plot(fpr_train, tpr_train, label= \"Spectral Clustering(area= %0.2f)\" % roc_auc_spec)\n",
    "plt.plot([0,1], [0,1], \"r--\")\n",
    "plt.xlabel(\"False Positive Rate\")\n",
    "plt.ylabel(\"True Positive Rate\")\n",
    "plt.title(\"Receiver operation chracteristic\")\n",
    "plt.legend(loc=\"lower right\")\n",
    "\n",
    "plt.show()"
   ]
  },
  {
   "cell_type": "markdown",
   "metadata": {},
   "source": [
    "#### C. Classify test data based on proximity to cluster centers. Report average accuracy, precision, recall, F1 score, AUC over M runs, and ROC and confusion matrix for one run for test data."
   ]
  },
  {
   "cell_type": "code",
   "execution_count": 46,
   "metadata": {},
   "outputs": [],
   "source": [
    "# Create lists to store results from each run\n",
    "accuracy_list_test_spec = []\n",
    "precision_list_test_spec = []\n",
    "recall_list_test_spec = []\n",
    "f1_list_test_spec = []\n",
    "auc_list_test_spec = []"
   ]
  },
  {
   "cell_type": "code",
   "execution_count": 47,
   "metadata": {},
   "outputs": [],
   "source": [
    "# Iterate M = 30 times\n",
    "iteration_num = np.arange(0, m, 1)\n",
    "for iteration in iteration_num:\n",
    "    \n",
    "   # Spectral clustering with RBF kernel, gamma = 1\n",
    "    clustering = SpectralClustering(n_clusters=2, assign_labels='discretize', random_state=0)\n",
    "    cluster_labels = clustering.fit_predict(x_test)        \n",
    "\n",
    "    # Convert labels from \"B\" -> 0, \"M\" -> 1\n",
    "    all_true_labels = []\n",
    "    for val in y_test:\n",
    "        if val == \"M\":\n",
    "            all_true_labels.append(1)\n",
    "        else:\n",
    "            all_true_labels.append(0)\n",
    "\n",
    "    # Compare labels predicted labels with true labels\n",
    "    accuracy_test_spec = accuracy_score(all_true_labels,cluster_labels)\n",
    "    precision_test_spec = precision_score(all_true_labels,cluster_labels)\n",
    "    recall_test_spec = recall_score(all_true_labels,cluster_labels)\n",
    "    f1_test_spec = f1_score(all_true_labels,cluster_labels)\n",
    "    auc_test_spec = roc_auc_score(all_true_labels, cluster_labels)\n",
    "\n",
    "    # Store model results\n",
    "    accuracy_list_test_spec.append(accuracy_test_spec)\n",
    "    precision_list_test_spec.append(precision_test_spec)\n",
    "    recall_list_test_spec.append(recall_test_spec)\n",
    "    f1_list_test_spec.append(f1_test_spec)\n",
    "    auc_list_test_spec.append(auc_test_spec)"
   ]
  },
  {
   "cell_type": "code",
   "execution_count": 48,
   "metadata": {},
   "outputs": [
    {
     "name": "stdout",
     "output_type": "stream",
     "text": [
      "Avg Accuracy - Spectral Test: 0.5359649122807018\n",
      "Avg Precision - Spectral Test: 0.40140247898710396\n",
      "Avg Recall - Spectral Test: 0.4976190476190476\n",
      "Avg F1 Score - Spectral Test: 0.4427356864755978\n",
      "Avg AUC - Spectral Test: 0.5279761904761905\n"
     ]
    }
   ],
   "source": [
    "# Output model results\n",
    "print(\"Avg Accuracy - Spectral Test: \" + str(mean(accuracy_list_test_spec)))\n",
    "print(\"Avg Precision - Spectral Test: \" + str(mean(precision_list_test_spec)))\n",
    "print(\"Avg Recall - Spectral Test: \" + str(mean(recall_list_test_spec)))\n",
    "print(\"Avg F1 Score - Spectral Test: \" + str(mean(f1_list_test_spec)))\n",
    "print(\"Avg AUC - Spectral Test: \" + str(mean(auc_list_test_spec)))"
   ]
  },
  {
   "cell_type": "markdown",
   "metadata": {},
   "source": [
    "Show results for a single run"
   ]
  },
  {
   "cell_type": "code",
   "execution_count": 49,
   "metadata": {},
   "outputs": [
    {
     "name": "stdout",
     "output_type": "stream",
     "text": [
      "Confusion Matrix - Spectral Test:\n",
      "[[44 28]\n",
      " [21 21]]\n"
     ]
    }
   ],
   "source": [
    "# Report Confusion Matrix\n",
    "print(\"Confusion Matrix - Spectral Test:\")\n",
    "print(confusion_matrix(all_true_labels,cluster_labels))"
   ]
  },
  {
   "cell_type": "code",
   "execution_count": 50,
   "metadata": {
    "scrolled": true
   },
   "outputs": [
    {
     "data": {
      "image/png": "[encoded data removed]",
      "text/plain": [
       "<Figure size 432x288 with 1 Axes>"
      ]
     },
     "metadata": {
      "needs_background": "light"
     },
     "output_type": "display_data"
    }
   ],
   "source": [
    "# Plot ROC\n",
    "n_classes = [\"negative\", \"positive\"]\n",
    "fpr_train, tpr_train, _ = roc_curve(all_true_labels,cluster_labels, pos_label=1)\n",
    "roc_auc_test_spec = roc_auc_score(all_true_labels,cluster_labels)\n",
    "\n",
    "plt.figure()\n",
    "plt.plot(fpr_train, tpr_train, label= \"Spectral Test(area= %0.2f)\" % roc_auc_test_spec)\n",
    "plt.plot([0,1], [0,1], \"r--\")\n",
    "plt.xlabel(\"False Positive Rate\")\n",
    "plt.ylabel(\"True Positive Rate\")\n",
    "plt.title(\"Receiver operation chracteristic\")\n",
    "plt.legend(loc=\"lower right\")\n",
    "\n",
    "plt.show()"
   ]
  },
  {
   "cell_type": "markdown",
   "metadata": {},
   "source": [
    "### v. Compare results from supervised learning, semi-supervised learning, and unsupervised learning"
   ]
  },
  {
   "cell_type": "markdown",
   "metadata": {},
   "source": [
    "Comparing accuracy results on test data, supervised learning performed the best with the highest accuracy score of 0.9692982456140351. Semi-supervised learning performed second best, with an accuracy score of 0.9583333333333333. Unsupervised learning performed the worst, with the average accuracy score of both the k-means method and spectral clustering method being less than the semi-supervised model. However, the spectral clustering method seemed to perform slightly better than the k-means models, as it's accuracy score was 0.5359649122807018 which is greater than 0.35964912280701755 for k-means."
   ]
  },
  {
   "cell_type": "markdown",
   "metadata": {},
   "source": [
    "## 2. Active Learning Using Support Vector Machines"
   ]
  },
  {
   "cell_type": "markdown",
   "metadata": {},
   "source": [
    "### A. Download Banknote Authentication Data Set"
   ]
  },
  {
   "cell_type": "code",
   "execution_count": 51,
   "metadata": {},
   "outputs": [],
   "source": [
    "# Load .txt file and convert to df format\n",
    "with open(\"../data/data_banknote_authentication.txt\") as f:\n",
    "    lines = f.readlines()\n",
    "    \n",
    "df_banknote = pd.DataFrame(columns = [\"variance\", \"skewness\", \"curtosis\", \"entropy\", \"class\"])\n",
    "\n",
    "for line in lines:\n",
    "    point_val = line.split(\",\")\n",
    "    cleaned_point_val = []\n",
    "    for i in point_val:\n",
    "        new_i = i.replace(\"\\n\", \"\")\n",
    "        cleaned_point_val.append(new_i)\n",
    "    \n",
    "    line_df = pd.DataFrame(columns = [\"variance\", \"skewness\", \"curtosis\", \"entropy\", \"class\"])\n",
    "    line_df.loc[0] = cleaned_point_val\n",
    "    df_banknote = pd.concat([df_banknote, line_df], ignore_index=True)"
   ]
  },
  {
   "cell_type": "code",
   "execution_count": 52,
   "metadata": {},
   "outputs": [],
   "source": [
    "# Reformat\n",
    "index_list = np.arange(len(df_banknote))\n",
    "df_banknote[\"idx\"] = index_list"
   ]
  },
  {
   "cell_type": "code",
   "execution_count": 53,
   "metadata": {},
   "outputs": [],
   "source": [
    "# Train test split\n",
    "bank_test = df_banknote.sample(n = 472)\n",
    "\n",
    "test_index = []\n",
    "for row_name, row_data in bank_test.iterrows():\n",
    "    idx_val = row_data.values[5]\n",
    "    test_index.append(idx_val)\n",
    "    \n",
    "bank_train = pd.DataFrame(columns = [\"variance\", \"skewness\", \"curtosis\", \"entropy\", \"class\"])\n",
    "test_list= []\n",
    "for row_name, row_data in df_banknote.iterrows():\n",
    "    idx_val = row_data.values[5]\n",
    "    if idx_val not in test_index:\n",
    "        row_dataframe = pd.DataFrame(columns = [\"variance\", \"skewness\", \"curtosis\", \"entropy\", \"class\"])\n",
    "        row_dataframe.loc[0] = row_data\n",
    "        bank_train = pd.concat([bank_train, row_dataframe], ignore_index=True)\n",
    "bank_test = bank_test.drop([\"idx\"], axis = 1)\n",
    "bank_test = bank_test.reset_index()"
   ]
  },
  {
   "cell_type": "markdown",
   "metadata": {},
   "source": [
    "### B. Perform Procedure 50 times"
   ]
  },
  {
   "cell_type": "code",
   "execution_count": 54,
   "metadata": {},
   "outputs": [],
   "source": [
    "# Set up to perform each procedure 50 times\n",
    "m2= 50\n",
    "passive_error_list = []\n",
    "active_error_list = []"
   ]
  },
  {
   "cell_type": "markdown",
   "metadata": {},
   "source": [
    "### i. Passive Learning: Train SVM, add 10 randomly selected training points, and iterate."
   ]
  },
  {
   "cell_type": "code",
   "execution_count": 55,
   "metadata": {},
   "outputs": [
    {
     "name": "stdout",
     "output_type": "stream",
     "text": [
      "Test Set Accuracy : 55.50847457627118 %\n"
     ]
    }
   ],
   "source": [
    "# Test L1 penalized SVM accuracy to determine parameter values to test in CV\n",
    "bank_train_x = bank_train.iloc[:, 0:4]\n",
    "bank_train_y = bank_train[\"class\"]\n",
    "bank_test_x = bank_test.iloc[:, 0:4]\n",
    "bank_test_y = bank_test[\"class\"]\n",
    "\n",
    "# Find range of penalty C for which accuracy is above 70%\n",
    "test_SVM_lowerC = LinearSVC(penalty='l1', dual=False, multi_class='ovr', C=10e-4)\n",
    "\n",
    "# Fitting the model with training data\n",
    "test_SVM_lowerC.fit(bank_train_x, bank_train_y)\n",
    "   \n",
    "# Making a prediction on the test set\n",
    "prediction = test_SVM_lowerC.predict(bank_test_x)\n",
    "   \n",
    "# Evaluating the model\n",
    "print(f\"Test Set Accuracy : {accuracy_score(bank_test_y, prediction) * 100} %\")"
   ]
  },
  {
   "cell_type": "code",
   "execution_count": 56,
   "metadata": {},
   "outputs": [
    {
     "name": "stdout",
     "output_type": "stream",
     "text": [
      "Test Set Accuracy : 55.50847457627118\n"
     ]
    }
   ],
   "source": [
    "# Test L1 penalized SVM accuracy to determine parameter values to test in CV\n",
    "# Find range of penalty C for which accuracy is above 70%\n",
    "test_SVM_upperC = LinearSVC(penalty='l1', dual=False, multi_class='ovr', C=10e4)\n",
    "\n",
    "# Fitting the model with training data\n",
    "test_SVM_upperC.fit(bank_train_x, bank_train_y)\n",
    "   \n",
    "# Making a prediction on the test set\n",
    "prediction = test_SVM_upperC.predict(bank_test_x)\n",
    "   \n",
    "# Evaluating the model\n",
    "print(f\"Test Set Accuracy : {accuracy_score(bank_test_y, prediction) * 100}\")"
   ]
  },
  {
   "cell_type": "code",
   "execution_count": 57,
   "metadata": {},
   "outputs": [
    {
     "name": "stdout",
     "output_type": "stream",
     "text": [
      "Cross validation test values for penalty parameter (C): \n",
      "[0.001, 1, 100000.0]\n"
     ]
    }
   ],
   "source": [
    "c_val = [10e-4, 1 ,10e4]\n",
    "print(\"Cross validation test values for penalty parameter (C): \")\n",
    "print(c_val)"
   ]
  },
  {
   "cell_type": "code",
   "execution_count": 58,
   "metadata": {},
   "outputs": [],
   "source": [
    "# Iterate M = 50 times\n",
    "iteration_num = np.arange(0, m2, 1)\n",
    "for iteration in iteration_num:\n",
    "    \n",
    "    # Create list to store 90 test errors\n",
    "    test_error_list = []\n",
    "    \n",
    "    pool = pd.DataFrame()\n",
    "    counter = np.arange(0, 90, 1)\n",
    "    for count in counter:\n",
    "\n",
    "        # Randomly select 10 training points and add to pool\n",
    "        bank_train_copy = bank_train.copy()\n",
    "        add_topool = bank_train_copy.sample(10)\n",
    "        pool = pd.concat([pool, add_topool])\n",
    "\n",
    "        # Split into x and y\n",
    "        bank_train_x = pool.iloc[:, 0:4]\n",
    "        bank_train_y = pool[\"class\"]\n",
    "\n",
    "        # Train SVM with linear kernel and L1 penalty\n",
    "\n",
    "        # Normalize attributes\n",
    "        scaler = preprocessing.MinMaxScaler()\n",
    "\n",
    "        # Specify L1 penalty with linear kernel\n",
    "        # sklearn recommends dual=False when n_samples > n_features.\n",
    "        SVM_pass = LinearSVC(penalty='l1', dual=False, multi_class='ovr')\n",
    "\n",
    "        # Cross validation parameters \n",
    "        param_grid = {'svmpass__C': c_val}\n",
    "\n",
    "        # Set up cross validation\n",
    "        model_SVM_pass = Pipeline([(\"normalize\", scaler),\n",
    "                     (\"svmpass\", SVM_pass)])\n",
    "        svm_pass_cv_param = GridSearchCV(estimator = model_SVM_pass, param_grid = param_grid, refit = True, cv=5, n_jobs=-1)\n",
    "\n",
    "        # Fitting the model with training data\n",
    "        svm_pass_cv_param.fit(bank_train_x, bank_train_y)\n",
    "\n",
    "        # Making predictions on train and test set\n",
    "        bank_test_pred_y = svm_pass_cv_param.predict(bank_test_x)\n",
    "\n",
    "        # Calculate test error\n",
    "        error = 1 - accuracy_score(bank_test_y,bank_test_pred_y)\n",
    "        # Store test error\n",
    "        test_error_list.append(error)\n",
    "\n",
    "        # Remove used points from training data\n",
    "        all_drop_index = pool.index.tolist()\n",
    "        drop_index = all_drop_index[-10:]\n",
    "        bank_train_copy = bank_train_copy.drop(drop_index)\n",
    "\n",
    "    passive_error_list.append(test_error_list)"
   ]
  },
  {
   "cell_type": "code",
   "execution_count": 59,
   "metadata": {},
   "outputs": [
    {
     "name": "stdout",
     "output_type": "stream",
     "text": [
      "Cross-Validated SVM Penalty Weight: 100000.0\n"
     ]
    }
   ],
   "source": [
    "print(\"Cross-Validated SVM Penalty Weight: \" + str(svm_pass_cv_param.best_params_['svmpass__C']))"
   ]
  },
  {
   "cell_type": "markdown",
   "metadata": {},
   "source": [
    "### ii. Active Learning: Train SVM, add 10closest data points in training set, and iterate."
   ]
  },
  {
   "cell_type": "code",
   "execution_count": 60,
   "metadata": {},
   "outputs": [
    {
     "data": {
      "text/html": [
       "<div>\n",
       "<style scoped>\n",
       "    .dataframe tbody tr th:only-of-type {\n",
       "        vertical-align: middle;\n",
       "    }\n",
       "\n",
       "    .dataframe tbody tr th {\n",
       "        vertical-align: top;\n",
       "    }\n",
       "\n",
       "    .dataframe thead th {\n",
       "        text-align: right;\n",
       "    }\n",
       "</style>\n",
       "<table border=\"1\" class=\"dataframe\">\n",
       "  <thead>\n",
       "    <tr style=\"text-align: right;\">\n",
       "      <th></th>\n",
       "      <th>variance</th>\n",
       "      <th>skewness</th>\n",
       "      <th>curtosis</th>\n",
       "      <th>entropy</th>\n",
       "      <th>class</th>\n",
       "      <th>ind</th>\n",
       "    </tr>\n",
       "  </thead>\n",
       "  <tbody>\n",
       "    <tr>\n",
       "      <td>0</td>\n",
       "      <td>3.6216</td>\n",
       "      <td>8.6661</td>\n",
       "      <td>-2.8073</td>\n",
       "      <td>-0.44699</td>\n",
       "      <td>0</td>\n",
       "      <td>0</td>\n",
       "    </tr>\n",
       "    <tr>\n",
       "      <td>1</td>\n",
       "      <td>3.866</td>\n",
       "      <td>-2.6383</td>\n",
       "      <td>1.9242</td>\n",
       "      <td>0.10645</td>\n",
       "      <td>0</td>\n",
       "      <td>1</td>\n",
       "    </tr>\n",
       "    <tr>\n",
       "      <td>2</td>\n",
       "      <td>3.4566</td>\n",
       "      <td>9.5228</td>\n",
       "      <td>-4.0112</td>\n",
       "      <td>-3.5944</td>\n",
       "      <td>0</td>\n",
       "      <td>2</td>\n",
       "    </tr>\n",
       "    <tr>\n",
       "      <td>3</td>\n",
       "      <td>0.32924</td>\n",
       "      <td>-4.4552</td>\n",
       "      <td>4.5718</td>\n",
       "      <td>-0.9888</td>\n",
       "      <td>0</td>\n",
       "      <td>3</td>\n",
       "    </tr>\n",
       "    <tr>\n",
       "      <td>4</td>\n",
       "      <td>4.3684</td>\n",
       "      <td>9.6718</td>\n",
       "      <td>-3.9606</td>\n",
       "      <td>-3.1625</td>\n",
       "      <td>0</td>\n",
       "      <td>4</td>\n",
       "    </tr>\n",
       "    <tr>\n",
       "      <td>...</td>\n",
       "      <td>...</td>\n",
       "      <td>...</td>\n",
       "      <td>...</td>\n",
       "      <td>...</td>\n",
       "      <td>...</td>\n",
       "      <td>...</td>\n",
       "    </tr>\n",
       "    <tr>\n",
       "      <td>895</td>\n",
       "      <td>-2.41</td>\n",
       "      <td>3.7433</td>\n",
       "      <td>-0.40215</td>\n",
       "      <td>-1.2953</td>\n",
       "      <td>1</td>\n",
       "      <td>895</td>\n",
       "    </tr>\n",
       "    <tr>\n",
       "      <td>896</td>\n",
       "      <td>0.40614</td>\n",
       "      <td>1.3492</td>\n",
       "      <td>-1.4501</td>\n",
       "      <td>-0.55949</td>\n",
       "      <td>1</td>\n",
       "      <td>896</td>\n",
       "    </tr>\n",
       "    <tr>\n",
       "      <td>897</td>\n",
       "      <td>-1.3887</td>\n",
       "      <td>-4.8773</td>\n",
       "      <td>6.4774</td>\n",
       "      <td>0.34179</td>\n",
       "      <td>1</td>\n",
       "      <td>897</td>\n",
       "    </tr>\n",
       "    <tr>\n",
       "      <td>898</td>\n",
       "      <td>-3.5637</td>\n",
       "      <td>-8.3827</td>\n",
       "      <td>12.393</td>\n",
       "      <td>-1.2823</td>\n",
       "      <td>1</td>\n",
       "      <td>898</td>\n",
       "    </tr>\n",
       "    <tr>\n",
       "      <td>899</td>\n",
       "      <td>-2.5419</td>\n",
       "      <td>-0.65804</td>\n",
       "      <td>2.6842</td>\n",
       "      <td>1.1952</td>\n",
       "      <td>1</td>\n",
       "      <td>899</td>\n",
       "    </tr>\n",
       "  </tbody>\n",
       "</table>\n",
       "<p>900 rows × 6 columns</p>\n",
       "</div>"
      ],
      "text/plain": [
       "    variance  skewness  curtosis   entropy class  ind\n",
       "0     3.6216    8.6661   -2.8073  -0.44699     0    0\n",
       "1      3.866   -2.6383    1.9242   0.10645     0    1\n",
       "2     3.4566    9.5228   -4.0112   -3.5944     0    2\n",
       "3    0.32924   -4.4552    4.5718   -0.9888     0    3\n",
       "4     4.3684    9.6718   -3.9606   -3.1625     0    4\n",
       "..       ...       ...       ...       ...   ...  ...\n",
       "895    -2.41    3.7433  -0.40215   -1.2953     1  895\n",
       "896  0.40614    1.3492   -1.4501  -0.55949     1  896\n",
       "897  -1.3887   -4.8773    6.4774   0.34179     1  897\n",
       "898  -3.5637   -8.3827    12.393   -1.2823     1  898\n",
       "899  -2.5419  -0.65804    2.6842    1.1952     1  899\n",
       "\n",
       "[900 rows x 6 columns]"
      ]
     },
     "execution_count": 60,
     "metadata": {},
     "output_type": "execute_result"
    }
   ],
   "source": [
    "bank_train_index = bank_train.copy()\n",
    "ind_range = np.arange(0,900,1)\n",
    "bank_train_index[\"ind\"] = ind_range\n",
    "bank_train_index"
   ]
  },
  {
   "cell_type": "code",
   "execution_count": 62,
   "metadata": {
    "scrolled": true
   },
   "outputs": [],
   "source": [
    "# Iterate M = 50 times\n",
    "iteration_num = np.arange(0, m2, 1)\n",
    "for iteration in iteration_num:\n",
    "    \n",
    "    # Create list to store 90 test errors\n",
    "    test_error_list = []\n",
    "        \n",
    "    # Randomly select 10 training points and add to pool\n",
    "    pool = pd.DataFrame()\n",
    "    bank_train_cp = bank_train_index.copy()\n",
    "    add_topool = bank_train_cp.sample(10)\n",
    "    pool = pd.concat([pool, add_topool])\n",
    "    \n",
    "    # Split into x and y\n",
    "    bank_train_x = pool.iloc[:, 0:4]\n",
    "    bank_train_y = pool[\"class\"]\n",
    "    \n",
    "    # Train SVM with linear kernel and L1 penalty\n",
    "\n",
    "    # Normalize attributes\n",
    "    scaler = preprocessing.MinMaxScaler()\n",
    "\n",
    "    # Specify L1 penalty with linear kernel\n",
    "    # sklearn recommends dual=False when n_samples > n_features.\n",
    "    SVM_act = LinearSVC(penalty='l1', dual=False, multi_class='ovr')\n",
    "\n",
    "    # Cross validation parameters \n",
    "    param_grid = {'svmact__C': c_val}\n",
    "\n",
    "    # Set up cross validation\n",
    "    model_SVM_act = Pipeline([(\"normalize\", scaler),\n",
    "                 (\"svmact\", SVM_act)])\n",
    "    svm_act_cv_param = GridSearchCV(estimator = model_SVM_act, param_grid = param_grid, refit = True, cv=5, n_jobs=-1)\n",
    "\n",
    "    # Fitting the model with training data\n",
    "    svm_act_cv_param.fit(bank_train_x, bank_train_y)\n",
    "    SVM_act.fit(bank_train_x, bank_train_y)\n",
    "\n",
    "    # Making predictions on train and test set\n",
    "    bank_test_pred_y = svm_pass_cv_param.predict(bank_test_x)\n",
    "\n",
    "    # Calculate test error\n",
    "    error = 1 - accuracy_score(bank_test_y,bank_test_pred_y)\n",
    "    \n",
    "    # Store test error\n",
    "    test_error_list.append(error)\n",
    "\n",
    "    # Remove used points from training data\n",
    "    all_drop_index = pool.index.tolist()\n",
    "    drop_index = all_drop_index[-10:]\n",
    "    bank_train_cp = bank_train_cp.drop(drop_index)\n",
    "    \n",
    "    # Repeat for next 89 iterations\n",
    "    counter = np.arange(0, 89, 1)\n",
    "    for count in counter:\n",
    "        # Select 10 training points closest to hyperplane and add to pool\n",
    "        y = svm_act_cv_param.decision_function(bank_train_cp.iloc[:, 0:4])\n",
    "        w_norm = np.linalg.norm(SVM_act.coef_)\n",
    "        dist = y / w_norm\n",
    "        sort_index = np.argsort(dist)\n",
    "        filtered_index = sort_index[:10].tolist()\n",
    "        add_topool = bank_train_cp.loc[bank_train_cp['ind'].isin(filtered_index)]\n",
    "        pool = pd.concat([pool, add_topool], axis= 0, sort=False)\n",
    "        # Split into x and y\n",
    "        bank_train_x = pool.iloc[:, 0:4]\n",
    "        bank_train_y = pool[\"class\"]\n",
    "\n",
    "        # Train SVM with linear kernel and L1 penalty\n",
    "\n",
    "        # Normalize attributes\n",
    "        scaler = preprocessing.MinMaxScaler()\n",
    "\n",
    "        # Specify L1 penalty with linear kernel\n",
    "        # sklearn recommends dual=False when n_samples > n_features.\n",
    "        SVM_act = LinearSVC(penalty='l1', dual=False, multi_class='ovr')\n",
    "\n",
    "        # Cross validation parameters \n",
    "        param_grid = {'svmact__C': c_val}\n",
    "\n",
    "        # Set up cross validation\n",
    "        model_SVM_act = Pipeline([(\"normalize\", scaler),\n",
    "             (\"svmact\", SVM_act)])\n",
    "        svm_act_cv_param = GridSearchCV(estimator = model_SVM_act, param_grid = param_grid, refit = True, cv=5, n_jobs=-1)\n",
    "\n",
    "        # Fitting the model with training data\n",
    "        svm_act_cv_param.fit(bank_train_x, bank_train_y)\n",
    "        SVM_act.fit(bank_train_x, bank_train_y)\n",
    "\n",
    "        # Making predictions on train and test set\n",
    "        bank_test_pred_y = svm_pass_cv_param.predict(bank_test_x)\n",
    "\n",
    "        # Calculate test error\n",
    "        error = 1 - accuracy_score(bank_test_y,bank_test_pred_y)\n",
    "\n",
    "        # Store test error\n",
    "        test_error_list.append(error)\n",
    "\n",
    "        # Remove used points from training data\n",
    "        all_drop_index = pool.index.tolist()\n",
    "        drop_index = all_drop_index[-10:]\n",
    "\n",
    "        for index_single in drop_index:\n",
    "            bank_train_cp.drop(bank_train_cp.loc[bank_train_cp['ind']==index_single].index, inplace=True)\n",
    "    active_error_list.append(test_error_list)"
   ]
  },
  {
   "cell_type": "code",
   "execution_count": 63,
   "metadata": {},
   "outputs": [
    {
     "name": "stdout",
     "output_type": "stream",
     "text": [
      "Cross-Validated SVM Penalty Weight: 100000.0\n"
     ]
    }
   ],
   "source": [
    "print(\"Cross-Validated SVM Penalty Weight: \" + str(svm_act_cv_param.best_params_['svmact__C']))"
   ]
  },
  {
   "cell_type": "markdown",
   "metadata": {},
   "source": [
    "### C. Average 50 test errors for Active and Passive learners SVM. Plot average test error v. number of training instaces. Report conclusions."
   ]
  },
  {
   "cell_type": "code",
   "execution_count": 64,
   "metadata": {},
   "outputs": [],
   "source": [
    "# Calculate average test errors for each SVM in Passive learner in 2(b)i\n",
    "passive_error_x = []\n",
    "passive_error_y = []\n",
    "passive_error_dict= {}\n",
    "for pos in range(len(passive_error_list[0])):\n",
    "    num_instances = 10 * (pos+1)\n",
    "    passive_error_x.append(num_instances)\n",
    "    calc_avg_error_list = []\n",
    "    for iteration in passive_error_list:\n",
    "        error = iteration[pos]\n",
    "        calc_avg_error_list.append(error)\n",
    "    avg_error = mean(calc_avg_error_list)\n",
    "    passive_error_y.append(avg_error)\n",
    "    passive_error_dict[num_instances]= avg_error"
   ]
  },
  {
   "cell_type": "code",
   "execution_count": 65,
   "metadata": {},
   "outputs": [
    {
     "data": {
      "text/plain": [
       "{10: 0.4453389830508475,\n",
       " 20: 0.44491525423728817,\n",
       " 30: 0.44491525423728817,\n",
       " 40: 0.44491525423728817,\n",
       " 50: 0.44491525423728817,\n",
       " 60: 0.44491525423728817,\n",
       " 70: 0.44491525423728817,\n",
       " 80: 0.44491525423728817,\n",
       " 90: 0.44491525423728817,\n",
       " 100: 0.44491525423728817,\n",
       " 110: 0.44491525423728817,\n",
       " 120: 0.44491525423728817,\n",
       " 130: 0.44491525423728817,\n",
       " 140: 0.44491525423728817,\n",
       " 150: 0.44491525423728817,\n",
       " 160: 0.44491525423728817,\n",
       " 170: 0.44491525423728817,\n",
       " 180: 0.44491525423728817,\n",
       " 190: 0.44491525423728817,\n",
       " 200: 0.44491525423728817,\n",
       " 210: 0.44491525423728817,\n",
       " 220: 0.44491525423728817,\n",
       " 230: 0.44491525423728817,\n",
       " 240: 0.44491525423728817,\n",
       " 250: 0.44491525423728817,\n",
       " 260: 0.44491525423728817,\n",
       " 270: 0.44491525423728817,\n",
       " 280: 0.44491525423728817,\n",
       " 290: 0.44491525423728817,\n",
       " 300: 0.44491525423728817,\n",
       " 310: 0.44491525423728817,\n",
       " 320: 0.44491525423728817,\n",
       " 330: 0.44491525423728817,\n",
       " 340: 0.44491525423728817,\n",
       " 350: 0.44491525423728817,\n",
       " 360: 0.44491525423728817,\n",
       " 370: 0.44491525423728817,\n",
       " 380: 0.44491525423728817,\n",
       " 390: 0.44491525423728817,\n",
       " 400: 0.44491525423728817,\n",
       " 410: 0.44491525423728817,\n",
       " 420: 0.44491525423728817,\n",
       " 430: 0.44491525423728817,\n",
       " 440: 0.44491525423728817,\n",
       " 450: 0.44491525423728817,\n",
       " 460: 0.44491525423728817,\n",
       " 470: 0.44491525423728817,\n",
       " 480: 0.44491525423728817,\n",
       " 490: 0.44491525423728817,\n",
       " 500: 0.44491525423728817,\n",
       " 510: 0.44491525423728817,\n",
       " 520: 0.44491525423728817,\n",
       " 530: 0.44491525423728817,\n",
       " 540: 0.44491525423728817,\n",
       " 550: 0.44491525423728817,\n",
       " 560: 0.44491525423728817,\n",
       " 570: 0.44491525423728817,\n",
       " 580: 0.44491525423728817,\n",
       " 590: 0.44491525423728817,\n",
       " 600: 0.44491525423728817,\n",
       " 610: 0.44491525423728817,\n",
       " 620: 0.44491525423728817,\n",
       " 630: 0.44491525423728817,\n",
       " 640: 0.44491525423728817,\n",
       " 650: 0.44491525423728817,\n",
       " 660: 0.44491525423728817,\n",
       " 670: 0.44491525423728817,\n",
       " 680: 0.44491525423728817,\n",
       " 690: 0.44491525423728817,\n",
       " 700: 0.44491525423728817,\n",
       " 710: 0.44491525423728817,\n",
       " 720: 0.44491525423728817,\n",
       " 730: 0.44491525423728817,\n",
       " 740: 0.44491525423728817,\n",
       " 750: 0.44491525423728817,\n",
       " 760: 0.44491525423728817,\n",
       " 770: 0.44491525423728817,\n",
       " 780: 0.44491525423728817,\n",
       " 790: 0.44491525423728817,\n",
       " 800: 0.44491525423728817,\n",
       " 810: 0.44491525423728817,\n",
       " 820: 0.44491525423728817,\n",
       " 830: 0.44491525423728817,\n",
       " 840: 0.44491525423728817,\n",
       " 850: 0.44491525423728817,\n",
       " 860: 0.44491525423728817,\n",
       " 870: 0.44491525423728817,\n",
       " 880: 0.44491525423728817,\n",
       " 890: 0.44491525423728817,\n",
       " 900: 0.44491525423728817}"
      ]
     },
     "execution_count": 65,
     "metadata": {},
     "output_type": "execute_result"
    }
   ],
   "source": [
    "passive_error_dict"
   ]
  },
  {
   "cell_type": "code",
   "execution_count": 66,
   "metadata": {},
   "outputs": [],
   "source": [
    "# Calculate average test errors for each SVM in Active learner in 2(b)ii\n",
    "active_error_x = []\n",
    "active_error_y = []\n",
    "active_error_dict = {}\n",
    "for pos in range(len(active_error_list[0])):\n",
    "    num_instances = 10 * (pos+1)\n",
    "    active_error_x.append(num_instances)\n",
    "    calc_avg_error_list = []\n",
    "    for iteration in active_error_list:\n",
    "        error = iteration[pos]\n",
    "        calc_avg_error_list.append(error)\n",
    "    avg_error = mean(calc_avg_error_list)\n",
    "    active_error_y.append(avg_error)\n",
    "    active_error_dict[num_instances]= avg_error"
   ]
  },
  {
   "cell_type": "code",
   "execution_count": 67,
   "metadata": {},
   "outputs": [
    {
     "data": {
      "text/plain": [
       "{10: 0.44491525423728817,\n",
       " 20: 0.44491525423728817,\n",
       " 30: 0.44491525423728817,\n",
       " 40: 0.44491525423728817,\n",
       " 50: 0.44491525423728817,\n",
       " 60: 0.44491525423728817,\n",
       " 70: 0.44491525423728817,\n",
       " 80: 0.44491525423728817,\n",
       " 90: 0.44491525423728817,\n",
       " 100: 0.44491525423728817,\n",
       " 110: 0.44491525423728817,\n",
       " 120: 0.44491525423728817,\n",
       " 130: 0.44491525423728817,\n",
       " 140: 0.44491525423728817,\n",
       " 150: 0.44491525423728817,\n",
       " 160: 0.44491525423728817,\n",
       " 170: 0.44491525423728817,\n",
       " 180: 0.44491525423728817,\n",
       " 190: 0.44491525423728817,\n",
       " 200: 0.44491525423728817,\n",
       " 210: 0.44491525423728817,\n",
       " 220: 0.44491525423728817,\n",
       " 230: 0.44491525423728817,\n",
       " 240: 0.44491525423728817,\n",
       " 250: 0.44491525423728817,\n",
       " 260: 0.44491525423728817,\n",
       " 270: 0.44491525423728817,\n",
       " 280: 0.44491525423728817,\n",
       " 290: 0.44491525423728817,\n",
       " 300: 0.44491525423728817,\n",
       " 310: 0.44491525423728817,\n",
       " 320: 0.44491525423728817,\n",
       " 330: 0.44491525423728817,\n",
       " 340: 0.44491525423728817,\n",
       " 350: 0.44491525423728817,\n",
       " 360: 0.44491525423728817,\n",
       " 370: 0.44491525423728817,\n",
       " 380: 0.44491525423728817,\n",
       " 390: 0.44491525423728817,\n",
       " 400: 0.44491525423728817,\n",
       " 410: 0.44491525423728817,\n",
       " 420: 0.44491525423728817,\n",
       " 430: 0.44491525423728817,\n",
       " 440: 0.44491525423728817,\n",
       " 450: 0.44491525423728817,\n",
       " 460: 0.44491525423728817,\n",
       " 470: 0.44491525423728817,\n",
       " 480: 0.44491525423728817,\n",
       " 490: 0.44491525423728817,\n",
       " 500: 0.44491525423728817,\n",
       " 510: 0.44491525423728817,\n",
       " 520: 0.44491525423728817,\n",
       " 530: 0.44491525423728817,\n",
       " 540: 0.44491525423728817,\n",
       " 550: 0.44491525423728817,\n",
       " 560: 0.44491525423728817,\n",
       " 570: 0.44491525423728817,\n",
       " 580: 0.44491525423728817,\n",
       " 590: 0.44491525423728817,\n",
       " 600: 0.44491525423728817,\n",
       " 610: 0.44491525423728817,\n",
       " 620: 0.44491525423728817,\n",
       " 630: 0.44491525423728817,\n",
       " 640: 0.44491525423728817,\n",
       " 650: 0.44491525423728817,\n",
       " 660: 0.44491525423728817,\n",
       " 670: 0.44491525423728817,\n",
       " 680: 0.44491525423728817,\n",
       " 690: 0.44491525423728817,\n",
       " 700: 0.44491525423728817,\n",
       " 710: 0.44491525423728817,\n",
       " 720: 0.44491525423728817,\n",
       " 730: 0.44491525423728817,\n",
       " 740: 0.44491525423728817,\n",
       " 750: 0.44491525423728817,\n",
       " 760: 0.44491525423728817,\n",
       " 770: 0.44491525423728817,\n",
       " 780: 0.44491525423728817,\n",
       " 790: 0.44491525423728817,\n",
       " 800: 0.44491525423728817,\n",
       " 810: 0.44491525423728817,\n",
       " 820: 0.44491525423728817,\n",
       " 830: 0.44491525423728817,\n",
       " 840: 0.44491525423728817,\n",
       " 850: 0.44491525423728817,\n",
       " 860: 0.44491525423728817,\n",
       " 870: 0.44491525423728817,\n",
       " 880: 0.44491525423728817,\n",
       " 890: 0.44491525423728817,\n",
       " 900: 0.44491525423728817}"
      ]
     },
     "execution_count": 67,
     "metadata": {},
     "output_type": "execute_result"
    }
   ],
   "source": [
    "active_error_dict"
   ]
  },
  {
   "cell_type": "code",
   "execution_count": 68,
   "metadata": {},
   "outputs": [
    {
     "data": {
      "image/png": "[encoded data removed]",
      "text/plain": [
       "<Figure size 432x288 with 1 Axes>"
      ]
     },
     "metadata": {
      "needs_background": "light"
     },
     "output_type": "display_data"
    }
   ],
   "source": [
    "# Plot average test error v. number of training instances for active and passive learners on the same figure \n",
    "plt.figure()\n",
    "plt.plot(passive_error_x, passive_error_y, label = \"Passive Learner\")\n",
    "plt.plot(active_error_x, active_error_y, label = \"Active Learner\")\n",
    "plt.xlabel(\"Number of Training Instances\")\n",
    "plt.ylabel(\"Average Test Error\")\n",
    "plt.title(\"Monte Carlo Simulation Learning Curve\")\n",
    "plt.legend(loc=\"lower right\")\n",
    "plt.show()"
   ]
  },
  {
   "cell_type": "markdown",
   "metadata": {},
   "source": [
    "#### Report conclusions\n",
    "It was found that for the Passive Learner, when the number of training instance increased the average test error decreased quickly at first and remained mostly stable around 0.449 even as the number of training instances continued to increase to 900. On the onther hand, for the Active Learner, the average test error started low, and did not vary with the increase of the number of training instances."
   ]
  }
 ],
 "metadata": {
  "kernelspec": {
   "display_name": "Python 3",
   "language": "python",
   "name": "python3"
  },
  "language_info": {
   "codemirror_mode": {
    "name": "ipython",
    "version": 3
   },
   "file_extension": ".py",
   "mimetype": "text/x-python",
   "name": "python",
   "nbconvert_exporter": "python",
   "pygments_lexer": "ipython3",
   "version": "3.7.4"
  }
 },
 "nbformat": 4,
 "nbformat_minor": 2
}
